{
 "cells": [
  {
   "cell_type": "markdown",
   "metadata": {},
   "source": [
    "# Basic Text Classification with Naive Bayes\n",
    "***\n",
    "In the mini-project, you'll learn the basics of text analysis using a subset of movie reviews from the rotten tomatoes database. You'll also use a fundamental technique in Bayesian inference, called Naive Bayes. This mini-project is based on [Lab 10 of Harvard's CS109](https://github.com/cs109/2015lab10) class.  Please free to go to the original lab for additional exercises and solutions."
   ]
  },
  {
   "cell_type": "code",
   "execution_count": 1,
   "metadata": {},
   "outputs": [],
   "source": [
    "%matplotlib inline\n",
    "import numpy as np\n",
    "import scipy as sp\n",
    "import matplotlib as mpl\n",
    "import matplotlib.cm as cm\n",
    "import matplotlib.pyplot as plt\n",
    "import pandas as pd\n",
    "import seaborn as sns\n",
    "from six.moves import range\n",
    "\n",
    "# Setup Pandas\n",
    "pd.set_option('display.width', 500)\n",
    "pd.set_option('display.max_columns', 100)\n",
    "pd.set_option('display.notebook_repr_html', True)\n",
    "\n",
    "# Setup Seaborn\n",
    "sns.set_style(\"whitegrid\")\n",
    "sns.set_context(\"poster\")"
   ]
  },
  {
   "cell_type": "markdown",
   "metadata": {},
   "source": [
    "# Table of Contents\n",
    "\n",
    "* [Rotten Tomatoes Dataset](#Rotten-Tomatoes-Dataset)\n",
    "    * [Explore](#Explore)\n",
    "* [The Vector Space Model and a Search Engine](#The-Vector-Space-Model-and-a-Search-Engine)\n",
    "    * [In Code](#In-Code)\n",
    "* [Naive Bayes](#Naive-Bayes)\n",
    "    * [Multinomial Naive Bayes and Other Likelihood Functions](#Multinomial-Naive-Bayes-and-Other-Likelihood-Functions)\n",
    "    * [Picking Hyperparameters for Naive Bayes and Text Maintenance](#Picking-Hyperparameters-for-Naive-Bayes-and-Text-Maintenance)\n",
    "* [Interpretation](#Interpretation)\n"
   ]
  },
  {
   "cell_type": "markdown",
   "metadata": {},
   "source": [
    "## Rotten Tomatoes Dataset"
   ]
  },
  {
   "cell_type": "code",
   "execution_count": 2,
   "metadata": {},
   "outputs": [
    {
     "data": {
      "text/html": [
       "<div>\n",
       "<style>\n",
       "    .dataframe thead tr:only-child th {\n",
       "        text-align: right;\n",
       "    }\n",
       "\n",
       "    .dataframe thead th {\n",
       "        text-align: left;\n",
       "    }\n",
       "\n",
       "    .dataframe tbody tr th {\n",
       "        vertical-align: top;\n",
       "    }\n",
       "</style>\n",
       "<table border=\"1\" class=\"dataframe\">\n",
       "  <thead>\n",
       "    <tr style=\"text-align: right;\">\n",
       "      <th></th>\n",
       "      <th>critic</th>\n",
       "      <th>fresh</th>\n",
       "      <th>imdb</th>\n",
       "      <th>publication</th>\n",
       "      <th>quote</th>\n",
       "      <th>review_date</th>\n",
       "      <th>rtid</th>\n",
       "      <th>title</th>\n",
       "    </tr>\n",
       "  </thead>\n",
       "  <tbody>\n",
       "    <tr>\n",
       "      <th>1</th>\n",
       "      <td>Derek Adams</td>\n",
       "      <td>fresh</td>\n",
       "      <td>114709</td>\n",
       "      <td>Time Out</td>\n",
       "      <td>So ingenious in concept, design and execution ...</td>\n",
       "      <td>2009-10-04</td>\n",
       "      <td>9559</td>\n",
       "      <td>Toy story</td>\n",
       "    </tr>\n",
       "    <tr>\n",
       "      <th>2</th>\n",
       "      <td>Richard Corliss</td>\n",
       "      <td>fresh</td>\n",
       "      <td>114709</td>\n",
       "      <td>TIME Magazine</td>\n",
       "      <td>The year's most inventive comedy.</td>\n",
       "      <td>2008-08-31</td>\n",
       "      <td>9559</td>\n",
       "      <td>Toy story</td>\n",
       "    </tr>\n",
       "    <tr>\n",
       "      <th>3</th>\n",
       "      <td>David Ansen</td>\n",
       "      <td>fresh</td>\n",
       "      <td>114709</td>\n",
       "      <td>Newsweek</td>\n",
       "      <td>A winning animated feature that has something ...</td>\n",
       "      <td>2008-08-18</td>\n",
       "      <td>9559</td>\n",
       "      <td>Toy story</td>\n",
       "    </tr>\n",
       "    <tr>\n",
       "      <th>4</th>\n",
       "      <td>Leonard Klady</td>\n",
       "      <td>fresh</td>\n",
       "      <td>114709</td>\n",
       "      <td>Variety</td>\n",
       "      <td>The film sports a provocative and appealing st...</td>\n",
       "      <td>2008-06-09</td>\n",
       "      <td>9559</td>\n",
       "      <td>Toy story</td>\n",
       "    </tr>\n",
       "    <tr>\n",
       "      <th>5</th>\n",
       "      <td>Jonathan Rosenbaum</td>\n",
       "      <td>fresh</td>\n",
       "      <td>114709</td>\n",
       "      <td>Chicago Reader</td>\n",
       "      <td>An entertaining computer-generated, hyperreali...</td>\n",
       "      <td>2008-03-10</td>\n",
       "      <td>9559</td>\n",
       "      <td>Toy story</td>\n",
       "    </tr>\n",
       "  </tbody>\n",
       "</table>\n",
       "</div>"
      ],
      "text/plain": [
       "               critic  fresh    imdb     publication                                              quote review_date  rtid      title\n",
       "1         Derek Adams  fresh  114709        Time Out  So ingenious in concept, design and execution ...  2009-10-04  9559  Toy story\n",
       "2     Richard Corliss  fresh  114709   TIME Magazine                  The year's most inventive comedy.  2008-08-31  9559  Toy story\n",
       "3         David Ansen  fresh  114709        Newsweek  A winning animated feature that has something ...  2008-08-18  9559  Toy story\n",
       "4       Leonard Klady  fresh  114709         Variety  The film sports a provocative and appealing st...  2008-06-09  9559  Toy story\n",
       "5  Jonathan Rosenbaum  fresh  114709  Chicago Reader  An entertaining computer-generated, hyperreali...  2008-03-10  9559  Toy story"
      ]
     },
     "execution_count": 2,
     "metadata": {},
     "output_type": "execute_result"
    }
   ],
   "source": [
    "critics = pd.read_csv('./critics.csv')\n",
    "#let's drop rows with missing quotes\n",
    "critics = critics[~critics.quote.isnull()]\n",
    "critics.head()"
   ]
  },
  {
   "cell_type": "markdown",
   "metadata": {},
   "source": [
    "### Explore"
   ]
  },
  {
   "cell_type": "code",
   "execution_count": 3,
   "metadata": {},
   "outputs": [
    {
     "name": "stdout",
     "output_type": "stream",
     "text": [
      "Number of reviews: 15561\n",
      "Number of critics: 623\n",
      "Number of movies:  1921\n"
     ]
    }
   ],
   "source": [
    "n_reviews = len(critics)\n",
    "n_movies = critics.rtid.unique().size\n",
    "n_critics = critics.critic.unique().size\n",
    "\n",
    "\n",
    "print(\"Number of reviews: {:d}\".format(n_reviews))\n",
    "print(\"Number of critics: {:d}\".format(n_critics))\n",
    "print(\"Number of movies:  {:d}\".format(n_movies))"
   ]
  },
  {
   "cell_type": "code",
   "execution_count": 4,
   "metadata": {},
   "outputs": [
    {
     "data": {
      "image/png": "[encoded data removed]",
      "text/plain": [
       "<matplotlib.figure.Figure at 0x28384c81e10>"
      ]
     },
     "metadata": {},
     "output_type": "display_data"
    }
   ],
   "source": [
    "df = critics.copy()\n",
    "df['fresh'] = df.fresh == 'fresh'\n",
    "grp = df.groupby('critic')\n",
    "counts = grp.critic.count()  # number of reviews by each critic\n",
    "means = grp.fresh.mean()     # average freshness for each critic\n",
    "\n",
    "means[counts > 100].hist(bins=10, edgecolor='w', lw=1)\n",
    "plt.xlabel(\"Average Rating per critic\")\n",
    "plt.ylabel(\"Number of Critics\")\n",
    "plt.yticks([0, 2, 4, 6, 8, 10]);"
   ]
  },
  {
   "cell_type": "markdown",
   "metadata": {},
   "source": [
    "<div class=\"span5 alert alert-info\">\n",
    "<h3>Exercise Set I</h3>\n",
    "<br/>\n",
    "<b>Exercise:</b> Look at the histogram above. Tell a story about the average ratings per critic. What shape does the distribution look like? What is interesting about the distribution? What might explain these interesting things?\n",
    "</div>"
   ]
  },
  {
   "cell_type": "markdown",
   "metadata": {},
   "source": [
    "#### Exercise: \n",
    "\n",
    "The range of movie rating is from 0 to 1. It is natural to expect that the average movie rating of a critic would be around 0.5 since the rating is relative, not absolute, i.e. a movie being reviewed is compared against the previous movies. This means that it is expected that average movie ratings would be spread following a normal distribution and critics' average rating would follow the same with half the movies being rated as bad (rating < 0.5) and the other half being rated as good (rating > 0.5)"
   ]
  },
  {
   "cell_type": "code",
   "execution_count": 5,
   "metadata": {},
   "outputs": [
    {
     "data": {
      "text/plain": [
       "<matplotlib.text.Text at 0x28388759ba8>"
      ]
     },
     "execution_count": 5,
     "metadata": {},
     "output_type": "execute_result"
    },
    {
     "data": {
      "image/png": "[encoded data removed]",
      "text/plain": [
       "<matplotlib.figure.Figure at 0x28388b45780>"
      ]
     },
     "metadata": {},
     "output_type": "display_data"
    }
   ],
   "source": [
    "plt.scatter(counts.values, means.values, color='blue',alpha=.4)\n",
    "plt.hlines(0.5,0,1000)\n",
    "plt.text(820, 0.51, '0.5 Rating',fontsize=20, color='grey')\n",
    "plt.ylabel('Average Rating',color='blue')\n",
    "plt.xlabel('Number of Rated Movies',color='blue')"
   ]
  },
  {
   "cell_type": "markdown",
   "metadata": {},
   "source": [
    "## The Vector Space Model and a Search Engine"
   ]
  },
  {
   "cell_type": "markdown",
   "metadata": {},
   "source": [
    "All the diagrams here are snipped from [*Introduction to Information Retrieval* by Manning et. al.]( http://nlp.stanford.edu/IR-book/) which is a great resource on text processing. For additional information on text mining and natural language processing, see [*Foundations of Statistical Natural Language Processing* by Manning and Schutze](http://nlp.stanford.edu/fsnlp/).\n",
    "\n",
    "Also check out Python packages [`nltk`](http://www.nltk.org/), [`spaCy`](https://spacy.io/), [`pattern`](http://www.clips.ua.ac.be/pattern), and their associated resources. Also see [`word2vec`](https://en.wikipedia.org/wiki/Word2vec).\n",
    "\n",
    "Let us define the vector derived from document $d$ by $\\bar V(d)$. What does this mean? Each document is treated as a vector containing information about the words contained in it. Each vector has the same length and each entry \"slot\" in the vector contains some kind of data about the words that appear in the document such as presence/absence (1/0), count (an integer) or some other statistic. Each vector has the same length because each document shared the same vocabulary across the full collection of documents -- this collection is called a *corpus*.\n",
    "\n",
    "To define the vocabulary, we take a union of all words we have seen in all documents. We then just associate an array index with them. So \"hello\" may be at index 5 and \"world\" at index 99.\n",
    "\n",
    "Suppose we have the following corpus:\n",
    "\n",
    "`A Fox one day spied a beautiful bunch of ripe grapes hanging from a vine trained along the branches of a tree. The grapes seemed ready to burst with juice, and the Fox's mouth watered as he gazed longingly at them.`\n",
    "\n",
    "Suppose we treat each sentence as a document $d$. The vocabulary (often called the *lexicon*) is the following:\n",
    "\n",
    "$V = \\left\\{\\right.$ `a, along, and, as, at, beautiful, branches, bunch, burst, day, fox, fox's, from, gazed, grapes, hanging, he, juice, longingly, mouth, of, one, ready, ripe, seemed, spied, the, them, to, trained, tree, vine, watered, with`$\\left.\\right\\}$\n",
    "\n",
    "Then the document\n",
    "\n",
    "`A Fox one day spied a beautiful bunch of ripe grapes hanging from a vine trained along the branches of a tree`\n",
    "\n",
    "may be represented as the following sparse vector of word counts:\n",
    "\n",
    "$$\\bar V(d) = \\left( 4,1,0,0,0,1,1,1,0,1,1,0,1,0,1,1,0,0,0,0,2,1,0,1,0,0,1,0,0,0,1,1,0,0 \\right)$$\n",
    "\n",
    "or more succinctly as\n",
    "\n",
    "`[(0, 4), (1, 1), (5, 1), (6, 1), (7, 1), (9, 1), (10, 1), (12, 1), (14, 1), (15, 1), (20, 2), (21, 1), (23, 1),`\n",
    "`(26, 1), (30, 1), (31, 1)]`\n",
    "\n",
    "along with a dictionary\n",
    "\n",
    "``\n",
    "{\n",
    "    0: a, 1: along, 5: beautiful, 6: branches, 7: bunch, 9: day, 10: fox, 12: from, 14: grapes, \n",
    "    15: hanging, 19: mouth, 20: of, 21: one, 23: ripe, 24: seemed, 25: spied, 26: the, \n",
    "    30: tree, 31: vine, \n",
    "}\n",
    "``\n",
    "\n",
    "Then, a set of documents becomes, in the usual `sklearn` style, a sparse matrix with rows being sparse arrays representing documents and columns representing the features/words in the vocabulary.\n",
    "\n",
    "Notice that this representation loses the relative ordering of the terms in the document. That is \"cat ate rat\" and \"rat ate cat\" are the same. Thus, this representation is also known as the Bag-Of-Words representation.\n",
    "\n",
    "Here is another example, from the book quoted above, although the matrix is transposed here so that documents are columns:\n",
    "\n",
    "![novel terms](terms.png)\n",
    "\n",
    "Such a matrix is also catted a Term-Document Matrix. Here, the terms being indexed could be stemmed before indexing; for instance, `jealous` and `jealousy` after stemming are the same feature. One could also make use of other \"Natural Language Processing\" transformations in constructing the vocabulary. We could use Lemmatization, which reduces words to lemmas: work, working, worked would all reduce to work. We could remove \"stopwords\" from our vocabulary, such as common words like \"the\". We could look for particular parts of speech, such as adjectives. This is often done in Sentiment Analysis. And so on. It all depends on our application.\n",
    "\n",
    "From the book:\n",
    ">The standard way of quantifying the similarity between two documents $d_1$ and $d_2$  is to compute the cosine similarity of their vector representations $\\bar V(d_1)$ and $\\bar V(d_2)$:\n",
    "\n",
    "$$S_{12} = \\frac{\\bar V(d_1) \\cdot \\bar V(d_2)}{|\\bar V(d_1)| \\times |\\bar V(d_2)|}$$\n",
    "\n",
    "![Vector Space Model](vsm.png)\n",
    "\n",
    "\n",
    ">There is a far more compelling reason to represent documents as vectors: we can also view a query as a vector. Consider the query q = jealous gossip. This query turns into the unit vector $\\bar V(q)$ = (0, 0.707, 0.707) on the three coordinates below. \n",
    "\n",
    "![novel terms](terms2.png)\n",
    "\n",
    ">The key idea now: to assign to each document d a score equal to the dot product:\n",
    "\n",
    "$$\\bar V(q) \\cdot \\bar V(d)$$\n",
    "\n",
    "Then we can use this simple Vector Model as a Search engine."
   ]
  },
  {
   "cell_type": "markdown",
   "metadata": {},
   "source": [
    "### In Code"
   ]
  },
  {
   "cell_type": "code",
   "execution_count": 6,
   "metadata": {},
   "outputs": [
    {
     "name": "stdout",
     "output_type": "stream",
     "text": [
      "Original text is\n",
      "Hop on pop\n",
      "Hop off pop\n",
      "Hop Hop hop\n",
      "\n",
      "Transformed text vector is \n",
      "[[1 0 1 1]\n",
      " [1 1 0 1]\n",
      " [3 0 0 0]]\n",
      "\n",
      "Words for each feature:\n",
      "['hop', 'off', 'on', 'pop']\n"
     ]
    }
   ],
   "source": [
    "from sklearn.feature_extraction.text import CountVectorizer\n",
    "\n",
    "text = ['Hop on pop', 'Hop off pop', 'Hop Hop hop']\n",
    "print(\"Original text is\\n{}\".format('\\n'.join(text)))\n",
    "\n",
    "vectorizer = CountVectorizer(min_df=0)\n",
    "\n",
    "# call `fit` to build the vocabulary\n",
    "vectorizer.fit(text)\n",
    "\n",
    "# call `transform` to convert text to a bag of words\n",
    "x = vectorizer.transform(text)\n",
    "\n",
    "# CountVectorizer uses a sparse array to save memory, but it's easier in this assignment to \n",
    "# convert back to a \"normal\" numpy array\n",
    "x = x.toarray()\n",
    "\n",
    "print(\"\")\n",
    "print(\"Transformed text vector is \\n{}\".format(x))\n",
    "\n",
    "# `get_feature_names` tracks which word is associated with each column of the transformed x\n",
    "print(\"\")\n",
    "print(\"Words for each feature:\")\n",
    "print(vectorizer.get_feature_names())\n",
    "\n",
    "# Notice that the bag of words treatment doesn't preserve information about the *order* of words, \n",
    "# just their frequency"
   ]
  },
  {
   "cell_type": "code",
   "execution_count": 7,
   "metadata": {},
   "outputs": [],
   "source": [
    "def make_xy(critics, vectorizer=None):\n",
    "    #Your code here    \n",
    "    if vectorizer is None:\n",
    "        vectorizer = CountVectorizer()\n",
    "    X = vectorizer.fit_transform(critics.quote)\n",
    "    X = X.tocsc()  # some versions of sklearn return COO format\n",
    "    y = (critics.fresh == 'fresh').values.astype(np.int)\n",
    "    return X, y\n",
    "X, y = make_xy(critics)"
   ]
  },
  {
   "cell_type": "markdown",
   "metadata": {},
   "source": [
    "## Naive Bayes"
   ]
  },
  {
   "cell_type": "markdown",
   "metadata": {},
   "source": [
    "From Bayes' Theorem, we have that\n",
    "\n",
    "$$P(c \\vert f) = \\frac{P(c \\cap f)}{P(f)}$$\n",
    "\n",
    "where $c$ represents a *class* or category, and $f$ represents a feature vector, such as $\\bar V(d)$ as above. **We are computing the probability that a document (or whatever we are classifying) belongs to category *c* given the features in the document.** $P(f)$ is really just a normalization constant, so the literature usually writes Bayes' Theorem in context of Naive Bayes as\n",
    "\n",
    "$$P(c \\vert f) \\propto P(f \\vert c) P(c) $$\n",
    "\n",
    "$P(c)$ is called the *prior* and is simply the probability of seeing class $c$. But what is $P(f \\vert c)$? This is the probability that we see feature set $f$ given that this document is actually in class $c$. This is called the *likelihood* and comes from the data. One of the major assumptions of the Naive Bayes model is that the features are *conditionally independent* given the class. While the presence of a particular discriminative word may uniquely identify the document as being part of class $c$ and thus violate general feature independence, conditional independence means that the presence of that term is independent of all the other words that appear *within that class*. This is a very important distinction. Recall that if two events are independent, then:\n",
    "\n",
    "$$P(A \\cap B) = P(A) \\cdot P(B)$$\n",
    "\n",
    "Thus, conditional independence implies\n",
    "\n",
    "$$P(f \\vert c)  = \\prod_i P(f_i | c) $$\n",
    "\n",
    "where $f_i$ is an individual feature (a word in this example).\n",
    "\n",
    "To make a classification, we then choose the class $c$ such that $P(c \\vert f)$ is maximal.\n",
    "\n",
    "There is a small caveat when computing these probabilities. For [floating point underflow](http://nlp.stanford.edu/IR-book/html/htmledition/naive-bayes-text-classification-1.html) we change the product into a sum by going into log space. This is called the LogSumExp trick. So:\n",
    "\n",
    "$$\\log P(f \\vert c)  = \\sum_i \\log P(f_i \\vert c) $$\n",
    "\n",
    "There is another caveat. What if we see a term that didn't exist in the training data? This means that $P(f_i \\vert c) = 0$ for that term, and thus $P(f \\vert c)  = \\prod_i P(f_i | c) = 0$, which doesn't help us at all. Instead of using zeros, we add a small negligible value called $\\alpha$ to each count. This is called Laplace Smoothing.\n",
    "\n",
    "$$P(f_i \\vert c) = \\frac{N_{ic}+\\alpha}{N_c + \\alpha N_i}$$\n",
    "\n",
    "where $N_{ic}$ is the number of times feature $i$ was seen in class $c$, $N_c$ is the number of times class $c$ was seen and $N_i$ is the number of times feature $i$ was seen globally. $\\alpha$ is sometimes called a regularization parameter."
   ]
  },
  {
   "cell_type": "markdown",
   "metadata": {},
   "source": [
    "### Multinomial Naive Bayes and Other Likelihood Functions\n",
    "\n",
    "Since we are modeling word counts, we are using variation of Naive Bayes called Multinomial Naive Bayes. This is because the likelihood function actually takes the form of the multinomial distribution.\n",
    "\n",
    "$$P(f \\vert c) = \\frac{\\left( \\sum_i f_i \\right)!}{\\prod_i f_i!} \\prod_{f_i} P(f_i \\vert c)^{f_i} \\propto \\prod_{i} P(f_i \\vert c)$$\n",
    "\n",
    "where the nasty term out front is absorbed as a normalization constant such that probabilities sum to 1.\n",
    "\n",
    "There are many other variations of Naive Bayes, all which depend on what type of value $f_i$ takes. If $f_i$ is continuous, we may be able to use *Gaussian Naive Bayes*. First compute the mean and variance for each class $c$. Then the likelihood, $P(f \\vert c)$ is given as follows\n",
    "\n",
    "$$P(f_i = v \\vert c) = \\frac{1}{\\sqrt{2\\pi \\sigma^2_c}} e^{- \\frac{\\left( v - \\mu_c \\right)^2}{2 \\sigma^2_c}}$$"
   ]
  },
  {
   "cell_type": "markdown",
   "metadata": {},
   "source": [
    "<div class=\"span5 alert alert-info\">\n",
    "<h3>Exercise Set II</h3>\n",
    "\n",
    "<p><b>Exercise:</b> Implement a simple Naive Bayes classifier:</p>\n",
    "\n",
    "<ol>\n",
    "<li> split the data set into a training and test set\n",
    "<li> Use `scikit-learn`'s `MultinomialNB()` classifier with default parameters.\n",
    "<li> train the classifier over the training set and test on the test set\n",
    "<li> print the accuracy scores for both the training and the test sets\n",
    "</ol>\n",
    "\n",
    "What do you notice? Is this a good classifier? If not, why not?\n",
    "</div>"
   ]
  },
  {
   "cell_type": "code",
   "execution_count": 8,
   "metadata": {},
   "outputs": [
    {
     "data": {
      "text/plain": [
       "MultinomialNB(alpha=1.0, class_prior=None, fit_prior=True)"
      ]
     },
     "execution_count": 8,
     "metadata": {},
     "output_type": "execute_result"
    }
   ],
   "source": [
    "#your turn\n",
    "from sklearn.model_selection import train_test_split\n",
    "from sklearn.naive_bayes import MultinomialNB\n",
    "\n",
    "\n",
    "X_train, X_test, y_train, y_test = train_test_split(X,y)\n",
    "\n",
    "model = MultinomialNB()\n",
    "\n",
    "model.fit(X_train, y_train)"
   ]
  },
  {
   "cell_type": "code",
   "execution_count": 9,
   "metadata": {},
   "outputs": [
    {
     "name": "stdout",
     "output_type": "stream",
     "text": [
      "Accuracy on training data (%): 91.996572\n",
      "Accuracy on test data (%):     77.332305\n"
     ]
    }
   ],
   "source": [
    "print('Accuracy on training data (%): {:2f}'.format(100 * model.score(X_train,y_train)))\n",
    "print('Accuracy on test data (%):     {:2f}'.format(100 * model.score(X_test,y_test)))"
   ]
  },
  {
   "cell_type": "markdown",
   "metadata": {},
   "source": [
    "The accuracy scores on test and train data there is overfitting. This classifer should be tweaked to improve accuracy.\n"
   ]
  },
  {
   "cell_type": "markdown",
   "metadata": {},
   "source": [
    "### Picking Hyperparameters for Naive Bayes and Text Maintenance"
   ]
  },
  {
   "cell_type": "markdown",
   "metadata": {},
   "source": [
    "We need to know what value to use for $\\alpha$, and we also need to know which words to include in the vocabulary. As mentioned earlier, some words are obvious stopwords. Other words appear so infrequently that they serve as noise, and other words in addition to stopwords appear so frequently that they may also serve as noise."
   ]
  },
  {
   "cell_type": "markdown",
   "metadata": {},
   "source": [
    "First, let's find an appropriate value for `min_df` for the `CountVectorizer`. `min_df` can be either an integer or a float/decimal. If it is an integer, `min_df` represents the minimum number of documents a word must appear in for it to be included in the vocabulary. If it is a float, it represents the minimum *percentage* of documents a word must appear in to be included in the vocabulary. From the documentation:"
   ]
  },
  {
   "cell_type": "markdown",
   "metadata": {},
   "source": [
    ">min_df: When building the vocabulary ignore terms that have a document frequency strictly lower than the given threshold. This value is also called cut-off in the literature. If float, the parameter represents a proportion of documents, integer absolute counts. This parameter is ignored if vocabulary is not None."
   ]
  },
  {
   "cell_type": "markdown",
   "metadata": {},
   "source": [
    "<div class=\"span5 alert alert-info\">\n",
    "<h3>Exercise Set III</h3>\n",
    "\n",
    "<p><b>Exercise:</b> Construct the cumulative distribution of document frequencies (df). The $x$-axis is a document count $x_i$ and the $y$-axis is the percentage of words that appear less than $x_i$ times. For example, at $x=5$, plot a point representing the percentage or number of words that appear in 5 or fewer documents.</p>\n",
    "\n",
    "<p><b>Exercise:</b> Look for the point at which the curve begins climbing steeply. This may be a good value for `min_df`. If we were interested in also picking `max_df`, we would likely pick the value where the curve starts to plateau. What value did you choose?</p>\n",
    "</div>"
   ]
  },
  {
   "cell_type": "code",
   "execution_count": 10,
   "metadata": {
    "scrolled": true
   },
   "outputs": [
    {
     "data": {
      "text/html": [
       "<div>\n",
       "<style>\n",
       "    .dataframe thead tr:only-child th {\n",
       "        text-align: right;\n",
       "    }\n",
       "\n",
       "    .dataframe thead th {\n",
       "        text-align: left;\n",
       "    }\n",
       "\n",
       "    .dataframe tbody tr th {\n",
       "        vertical-align: top;\n",
       "    }\n",
       "</style>\n",
       "<table border=\"1\" class=\"dataframe\">\n",
       "  <thead>\n",
       "    <tr style=\"text-align: right;\">\n",
       "      <th></th>\n",
       "      <th>critic</th>\n",
       "      <th>fresh</th>\n",
       "      <th>imdb</th>\n",
       "      <th>publication</th>\n",
       "      <th>quote</th>\n",
       "      <th>review_date</th>\n",
       "      <th>rtid</th>\n",
       "      <th>title</th>\n",
       "    </tr>\n",
       "  </thead>\n",
       "  <tbody>\n",
       "    <tr>\n",
       "      <th>1</th>\n",
       "      <td>Derek Adams</td>\n",
       "      <td>fresh</td>\n",
       "      <td>114709</td>\n",
       "      <td>Time Out</td>\n",
       "      <td>so ingenious in concept, design and execution ...</td>\n",
       "      <td>2009-10-04</td>\n",
       "      <td>9559</td>\n",
       "      <td>Toy story</td>\n",
       "    </tr>\n",
       "    <tr>\n",
       "      <th>2</th>\n",
       "      <td>Richard Corliss</td>\n",
       "      <td>fresh</td>\n",
       "      <td>114709</td>\n",
       "      <td>TIME Magazine</td>\n",
       "      <td>the year's most inventive comedy.</td>\n",
       "      <td>2008-08-31</td>\n",
       "      <td>9559</td>\n",
       "      <td>Toy story</td>\n",
       "    </tr>\n",
       "    <tr>\n",
       "      <th>3</th>\n",
       "      <td>David Ansen</td>\n",
       "      <td>fresh</td>\n",
       "      <td>114709</td>\n",
       "      <td>Newsweek</td>\n",
       "      <td>a winning animated feature that has something ...</td>\n",
       "      <td>2008-08-18</td>\n",
       "      <td>9559</td>\n",
       "      <td>Toy story</td>\n",
       "    </tr>\n",
       "    <tr>\n",
       "      <th>4</th>\n",
       "      <td>Leonard Klady</td>\n",
       "      <td>fresh</td>\n",
       "      <td>114709</td>\n",
       "      <td>Variety</td>\n",
       "      <td>the film sports a provocative and appealing st...</td>\n",
       "      <td>2008-06-09</td>\n",
       "      <td>9559</td>\n",
       "      <td>Toy story</td>\n",
       "    </tr>\n",
       "    <tr>\n",
       "      <th>5</th>\n",
       "      <td>Jonathan Rosenbaum</td>\n",
       "      <td>fresh</td>\n",
       "      <td>114709</td>\n",
       "      <td>Chicago Reader</td>\n",
       "      <td>an entertaining computer-generated, hyperreali...</td>\n",
       "      <td>2008-03-10</td>\n",
       "      <td>9559</td>\n",
       "      <td>Toy story</td>\n",
       "    </tr>\n",
       "  </tbody>\n",
       "</table>\n",
       "</div>"
      ],
      "text/plain": [
       "               critic  fresh    imdb     publication                                              quote review_date  rtid      title\n",
       "1         Derek Adams  fresh  114709        Time Out  so ingenious in concept, design and execution ...  2009-10-04  9559  Toy story\n",
       "2     Richard Corliss  fresh  114709   TIME Magazine                  the year's most inventive comedy.  2008-08-31  9559  Toy story\n",
       "3         David Ansen  fresh  114709        Newsweek  a winning animated feature that has something ...  2008-08-18  9559  Toy story\n",
       "4       Leonard Klady  fresh  114709         Variety  the film sports a provocative and appealing st...  2008-06-09  9559  Toy story\n",
       "5  Jonathan Rosenbaum  fresh  114709  Chicago Reader  an entertaining computer-generated, hyperreali...  2008-03-10  9559  Toy story"
      ]
     },
     "execution_count": 10,
     "metadata": {},
     "output_type": "execute_result"
    }
   ],
   "source": [
    "# Your turn.\n",
    "df = critics.copy()\n",
    "df.quote = df.quote.str.lower()\n",
    "df.head()"
   ]
  },
  {
   "cell_type": "code",
   "execution_count": 11,
   "metadata": {},
   "outputs": [],
   "source": [
    "X_hyperparameter,y = make_xy(df)"
   ]
  },
  {
   "cell_type": "code",
   "execution_count": 12,
   "metadata": {},
   "outputs": [
    {
     "data": {
      "text/html": [
       "<div>\n",
       "<style>\n",
       "    .dataframe thead tr:only-child th {\n",
       "        text-align: right;\n",
       "    }\n",
       "\n",
       "    .dataframe thead th {\n",
       "        text-align: left;\n",
       "    }\n",
       "\n",
       "    .dataframe tbody tr th {\n",
       "        vertical-align: top;\n",
       "    }\n",
       "</style>\n",
       "<table border=\"1\" class=\"dataframe\">\n",
       "  <thead>\n",
       "    <tr style=\"text-align: right;\">\n",
       "      <th></th>\n",
       "      <th>word</th>\n",
       "      <th>freq</th>\n",
       "    </tr>\n",
       "  </thead>\n",
       "  <tbody>\n",
       "    <tr>\n",
       "      <th>0</th>\n",
       "      <td>1</td>\n",
       "      <td>7</td>\n",
       "    </tr>\n",
       "    <tr>\n",
       "      <th>1</th>\n",
       "      <td>2</td>\n",
       "      <td>1</td>\n",
       "    </tr>\n",
       "    <tr>\n",
       "      <th>2</th>\n",
       "      <td>3</td>\n",
       "      <td>10</td>\n",
       "    </tr>\n",
       "    <tr>\n",
       "      <th>3</th>\n",
       "      <td>4</td>\n",
       "      <td>1</td>\n",
       "    </tr>\n",
       "    <tr>\n",
       "      <th>4</th>\n",
       "      <td>5</td>\n",
       "      <td>1</td>\n",
       "    </tr>\n",
       "  </tbody>\n",
       "</table>\n",
       "</div>"
      ],
      "text/plain": [
       "   word  freq\n",
       "0     1     7\n",
       "1     2     1\n",
       "2     3    10\n",
       "3     4     1\n",
       "4     5     1"
      ]
     },
     "execution_count": 12,
     "metadata": {},
     "output_type": "execute_result"
    }
   ],
   "source": [
    "df_word_f = pd.DataFrame(((X_hyperparameter>0).sum(axis=0).transpose()).A[:,0])\n",
    "df_word_f= df_word_f.reset_index()\n",
    "df_word_f.columns=['word','freq']\n",
    "df_word_f.word=df_word_f.word+1\n",
    "df_word_f.head()\n"
   ]
  },
  {
   "cell_type": "code",
   "execution_count": 13,
   "metadata": {},
   "outputs": [
    {
     "data": {
      "image/png": "[encoded data removed]",
      "text/plain": [
       "<matplotlib.figure.Figure at 0x28388b2bdd8>"
      ]
     },
     "metadata": {},
     "output_type": "display_data"
    }
   ],
   "source": [
    "plt.hist(df_word_f.groupby(['freq']).size(),len(df_word_f['freq'].unique()),histtype='step',\n",
    "         cumulative=1,normed=1,color='red',linewidth=2)\n",
    "plt.xlim(-1, 500)\n",
    "plt.xlabel('Number of Documents')\n",
    "plt.ylabel('Cumulative Word Frequencies')\n",
    "plt.show()"
   ]
  },
  {
   "cell_type": "code",
   "execution_count": 14,
   "metadata": {
    "scrolled": false
   },
   "outputs": [
    {
     "data": {
      "image/png": "[encoded data removed]",
      "text/plain": [
       "<matplotlib.figure.Figure at 0x28388b2b908>"
      ]
     },
     "metadata": {},
     "output_type": "display_data"
    }
   ],
   "source": [
    "plt.hist(df_word_f.groupby(['freq']).size(),(df_word_f.groupby(['freq']).size()).index[-1],histtype='step',\n",
    "         cumulative=1,normed=1,color='red',linewidth=2)\n",
    "plt.xlim(-1, 500)\n",
    "plt.xlabel('Number of Documents')\n",
    "plt.ylabel('Cumulative Word Frequencies')\n",
    "plt.show()"
   ]
  },
  {
   "cell_type": "markdown",
   "metadata": {},
   "source": [
    "#### Exercise III:\n",
    "\n",
    "The curve that plots the cummulative number of words against the total number of documents in which a word apprears we can see that the curve rises steeply just after 0, so the `min_df` will be something very close to 0. The curve starts to reach its peak around 0.2, this might be a good value for `max_df`. As we observed from the accuracy scores on testing and training data, there is a lot of overfit, so the classifier needs to be tweaked to improve accuracy."
   ]
  },
  {
   "cell_type": "markdown",
   "metadata": {},
   "source": [
    "The parameter $\\alpha$ is chosen to be a small value that simply avoids having zeros in the probability computations. This value can sometimes be chosen arbitrarily with domain expertise, but we will use K-fold cross validation. In K-fold cross-validation, we divide the data into $K$ non-overlapping parts. We train on $K-1$ of the folds and test on the remaining fold. We then iterate, so that each fold serves as the test fold exactly once. The function `cv_score` performs the K-fold cross-validation algorithm for us, but we need to pass a function that measures the performance of the algorithm on each fold. "
   ]
  },
  {
   "cell_type": "code",
   "execution_count": 15,
   "metadata": {},
   "outputs": [],
   "source": [
    "from sklearn.model_selection import KFold\n",
    "def cv_score(clf, X, y, scorefunc):\n",
    "    result = 0.\n",
    "    nfold = 5\n",
    "    for train, test in KFold(nfold).split(X): # split data into train/test groups, 5 times\n",
    "        clf.fit(X[train], y[train]) # fit the classifier, passed is as clf.\n",
    "        result += scorefunc(clf, X[test], y[test]) # evaluate score function on held-out data\n",
    "    return result / nfold # average"
   ]
  },
  {
   "cell_type": "markdown",
   "metadata": {},
   "source": [
    "We use the log-likelihood as the score here in `scorefunc`. The higher the log-likelihood, the better. Indeed, what we do in `cv_score` above is to implement the cross-validation part of `GridSearchCV`.\n",
    "\n",
    "The custom scoring function `scorefunc` allows us to use different metrics depending on the decision risk we care about (precision, accuracy, profit etc.) directly on the validation set. You will often find people using `roc_auc`, precision, recall, or `F1-score` as the scoring function."
   ]
  },
  {
   "cell_type": "code",
   "execution_count": 16,
   "metadata": {},
   "outputs": [],
   "source": [
    "def log_likelihood(clf, x, y):\n",
    "    prob = clf.predict_log_proba(x)\n",
    "    rotten = y == 0\n",
    "    fresh = ~rotten\n",
    "    return prob[rotten, 0].sum() + prob[fresh, 1].sum()"
   ]
  },
  {
   "cell_type": "markdown",
   "metadata": {},
   "source": [
    "We'll cross-validate over the regularization parameter $\\alpha$."
   ]
  },
  {
   "cell_type": "markdown",
   "metadata": {},
   "source": [
    "Let's set up the train and test masks first, and then we can run the cross-validation procedure."
   ]
  },
  {
   "cell_type": "code",
   "execution_count": 17,
   "metadata": {},
   "outputs": [
    {
     "name": "stderr",
     "output_type": "stream",
     "text": [
      "c:\\users\\kj.park\\appdata\\local\\programs\\python\\python36\\lib\\site-packages\\sklearn\\model_selection\\_split.py:2026: FutureWarning: From version 0.21, test_size will always complement train_size unless both are specified.\n",
      "  FutureWarning)\n"
     ]
    }
   ],
   "source": [
    "from sklearn.model_selection import train_test_split\n",
    "_, itest = train_test_split(range(critics.shape[0]), train_size=0.7)\n",
    "mask = np.zeros(critics.shape[0], dtype=np.bool)\n",
    "mask[itest] = True"
   ]
  },
  {
   "cell_type": "markdown",
   "metadata": {},
   "source": [
    "<div class=\"span5 alert alert-info\">\n",
    "<h3>Exercise Set IV</h3>\n",
    "\n",
    "<p><b>Exercise:</b> What does using the function `log_likelihood` as the score mean? What are we trying to optimize for?</p>\n",
    "\n",
    "<p><b>Exercise:</b> Without writing any code, what do you think would happen if you choose a value of $\\alpha$ that is too high?</p>\n",
    "\n",
    "<p><b>Exercise:</b> Using the skeleton code below, find the best values of the parameter `alpha`, and use the value of `min_df` you chose in the previous exercise set. Use the `cv_score` function above with the `log_likelihood` function for scoring.</p>\n",
    "</div>"
   ]
  },
  {
   "cell_type": "markdown",
   "metadata": {},
   "source": [
    "#### Exercise Set IV:\n",
    "\n",
    "#### Exercise 1: \n",
    "We are trying to maximize the probability. For example, two separate models may that predict a particular class for a given response, but, we would like to chose the model that gives the higher probability for that class for optimal predictions.\n",
    " \n",
    "#### Exercise 2:\n",
    "the alpha is a smoothing parameter. The lower the value, the less smooth it will be; the higher the value, the lower the accuracy. High alpha reduces overfitting while low alpha may allow for overfitting, which is undesirable.\n",
    "\n",
    "\n",
    "Using the skeleton code below, find the best values of the parameter `alpha`, and use the value of `min_df` you chose in the previous exercise set. Use the `cv_score` function above with the `log_likelihood` function for scoring.\n",
    "\n",
    "Completed "
   ]
  },
  {
   "cell_type": "code",
   "execution_count": 18,
   "metadata": {},
   "outputs": [
    {
     "name": "stdout",
     "output_type": "stream",
     "text": [
      "alpha: 0.1  min df: 1e-05  score: -940.243144737\n",
      "alpha: 1  min df: 1e-05  score: -722.317450816\n",
      "alpha: 5  min df: 1e-05  score: -1278.40822933\n",
      "alpha: 10  min df: 1e-05  score: -1440.68668617\n",
      "alpha: 50  min df: 1e-05  score: -1399.26213506\n",
      "alpha: 0.1  min df: 0.0001  score: -943.791427315\n",
      "alpha: 1  min df: 0.0001  score: -616.495263529\n",
      "alpha: 5  min df: 0.0001  score: -1011.39512769\n",
      "alpha: 10  min df: 0.0001  score: -1242.15443477\n",
      "alpha: 50  min df: 0.0001  score: -1344.69676641\n",
      "alpha: 0.1  min df: 0.0005  score: -831.26756384\n",
      "alpha: 1  min df: 0.0005  score: -574.809874104\n",
      "alpha: 5  min df: 0.0005  score: -615.641024993\n",
      "alpha: 10  min df: 0.0005  score: -800.048796905\n",
      "alpha: 50  min df: 0.0005  score: -1160.40040176\n",
      "alpha: 0.1  min df: 0.0008  score: -745.739818018\n",
      "alpha: 1  min df: 0.0008  score: -572.527663267\n",
      "alpha: 5  min df: 0.0008  score: -560.62104847\n",
      "alpha: 10  min df: 0.0008  score: -674.601906268\n",
      "alpha: 50  min df: 0.0008  score: -1059.85786869\n",
      "alpha: 0.1  min df: 0.001  score: -694.738602587\n",
      "alpha: 1  min df: 0.001  score: -565.340950876\n",
      "alpha: 5  min df: 0.001  score: -548.841768135\n",
      "alpha: 10  min df: 0.001  score: -635.398431156\n",
      "alpha: 50  min df: 0.001  score: -1011.80081683\n",
      "alpha: 0.1  min df: 0.003  score: -601.931188121\n",
      "alpha: 1  min df: 0.003  score: -578.043095724\n",
      "alpha: 5  min df: 0.003  score: -561.289537954\n",
      "alpha: 10  min df: 0.003  score: -569.75129867\n",
      "alpha: 50  min df: 0.003  score: -768.583020482\n",
      "alpha: 0.1  min df: 0.005  score: -597.624728669\n",
      "alpha: 1  min df: 0.005  score: -589.504190063\n",
      "alpha: 5  min df: 0.005  score: -579.603088881\n",
      "alpha: 10  min df: 0.005  score: -579.925142511\n",
      "alpha: 50  min df: 0.005  score: -683.962884336\n",
      "\n",
      " Best model alpha:  5 Best min_df:  0.001  Max score:  -548.841768135\n"
     ]
    }
   ],
   "source": [
    "from sklearn.naive_bayes import MultinomialNB\n",
    "\n",
    "#the grid of parameters to search over\n",
    "alphas = [.1, 1, 5, 10, 50]\n",
    "#min_dfs= [1,5,10,50,60,70,100] ## best 50\n",
    "min_dfs=[0.00001,0.0001,0.0005,0.0008,0.001,0.003,0.005]#best 0.001\n",
    "best_min_df = 0.001 # YOUR TURN: put your value of min_df here.\n",
    "\n",
    "#Find the best value for alpha and min_df, and the best classifier\n",
    "best_alpha = None\n",
    "maxscore=-np.inf\n",
    "for mindf in min_dfs:\n",
    "    for alpha in alphas:        \n",
    "        vectorizer = CountVectorizer(min_df=mindf)       \n",
    "        Xthis, ythis = make_xy(critics, vectorizer)\n",
    "        Xtrainthis = Xthis[mask]\n",
    "        ytrainthis = ythis[mask]\n",
    "        clf = MultinomialNB(alpha=alpha)\n",
    "        score = cv_score(clf,Xtrainthis,ytrainthis,log_likelihood)\n",
    "        print('alpha:',alpha,' min df:',mindf,' score:',score)\n",
    "        if score>maxscore:\n",
    "            maxscore=score\n",
    "            best_alpha=alpha\n",
    "            best_min_df=mindf\n",
    "print('\\n','Best model alpha: ',best_alpha,'Best min_df: ',best_min_df,' Max score: ',maxscore)"
   ]
  },
  {
   "cell_type": "code",
   "execution_count": 19,
   "metadata": {},
   "outputs": [],
   "source": [
    "log_probability = clf.predict_log_proba(Xtrainthis)\n",
    "probility = clf.predict_proba(Xtrainthis)\n",
    "temp_pred_df=pd.DataFrame(clf.predict(Xtrainthis))\n",
    "temp_pred_df.columns=['Prediction']\n",
    "temp_pred_df['class0LogProb']=log_probability[:,0]\n",
    "temp_pred_df['class1LogProb']=log_probability[:,1]\n",
    "temp_pred_df['class0Prob']=probility[:,0]\n",
    "temp_pred_df['class1Prob']=probility[:,1]"
   ]
  },
  {
   "cell_type": "code",
   "execution_count": 20,
   "metadata": {},
   "outputs": [
    {
     "data": {
      "text/html": [
       "<div>\n",
       "<style>\n",
       "    .dataframe thead tr:only-child th {\n",
       "        text-align: right;\n",
       "    }\n",
       "\n",
       "    .dataframe thead th {\n",
       "        text-align: left;\n",
       "    }\n",
       "\n",
       "    .dataframe tbody tr th {\n",
       "        vertical-align: top;\n",
       "    }\n",
       "</style>\n",
       "<table border=\"1\" class=\"dataframe\">\n",
       "  <thead>\n",
       "    <tr style=\"text-align: right;\">\n",
       "      <th></th>\n",
       "      <th>Prediction</th>\n",
       "      <th>class0LogProb</th>\n",
       "      <th>class1LogProb</th>\n",
       "      <th>class0Prob</th>\n",
       "      <th>class1Prob</th>\n",
       "    </tr>\n",
       "  </thead>\n",
       "  <tbody>\n",
       "    <tr>\n",
       "      <th>33</th>\n",
       "      <td>0</td>\n",
       "      <td>-0.572384</td>\n",
       "      <td>-0.830523</td>\n",
       "      <td>0.564179</td>\n",
       "      <td>0.435821</td>\n",
       "    </tr>\n",
       "    <tr>\n",
       "      <th>53</th>\n",
       "      <td>0</td>\n",
       "      <td>-0.424737</td>\n",
       "      <td>-1.061148</td>\n",
       "      <td>0.653942</td>\n",
       "      <td>0.346058</td>\n",
       "    </tr>\n",
       "    <tr>\n",
       "      <th>54</th>\n",
       "      <td>0</td>\n",
       "      <td>-0.689737</td>\n",
       "      <td>-0.696569</td>\n",
       "      <td>0.501708</td>\n",
       "      <td>0.498292</td>\n",
       "    </tr>\n",
       "    <tr>\n",
       "      <th>93</th>\n",
       "      <td>0</td>\n",
       "      <td>-0.631568</td>\n",
       "      <td>-0.758768</td>\n",
       "      <td>0.531757</td>\n",
       "      <td>0.468243</td>\n",
       "    </tr>\n",
       "    <tr>\n",
       "      <th>100</th>\n",
       "      <td>0</td>\n",
       "      <td>-0.639689</td>\n",
       "      <td>-0.749626</td>\n",
       "      <td>0.527457</td>\n",
       "      <td>0.472543</td>\n",
       "    </tr>\n",
       "    <tr>\n",
       "      <th>117</th>\n",
       "      <td>0</td>\n",
       "      <td>-0.682249</td>\n",
       "      <td>-0.704165</td>\n",
       "      <td>0.505479</td>\n",
       "      <td>0.494521</td>\n",
       "    </tr>\n",
       "    <tr>\n",
       "      <th>122</th>\n",
       "      <td>0</td>\n",
       "      <td>-0.239494</td>\n",
       "      <td>-1.546584</td>\n",
       "      <td>0.787026</td>\n",
       "      <td>0.212974</td>\n",
       "    </tr>\n",
       "    <tr>\n",
       "      <th>132</th>\n",
       "      <td>0</td>\n",
       "      <td>-0.410336</td>\n",
       "      <td>-1.088941</td>\n",
       "      <td>0.663427</td>\n",
       "      <td>0.336573</td>\n",
       "    </tr>\n",
       "    <tr>\n",
       "      <th>135</th>\n",
       "      <td>0</td>\n",
       "      <td>-0.587404</td>\n",
       "      <td>-0.811409</td>\n",
       "      <td>0.555768</td>\n",
       "      <td>0.444232</td>\n",
       "    </tr>\n",
       "    <tr>\n",
       "      <th>164</th>\n",
       "      <td>0</td>\n",
       "      <td>-0.365780</td>\n",
       "      <td>-1.183044</td>\n",
       "      <td>0.693655</td>\n",
       "      <td>0.306345</td>\n",
       "    </tr>\n",
       "  </tbody>\n",
       "</table>\n",
       "</div>"
      ],
      "text/plain": [
       "     Prediction  class0LogProb  class1LogProb  class0Prob  class1Prob\n",
       "33            0      -0.572384      -0.830523    0.564179    0.435821\n",
       "53            0      -0.424737      -1.061148    0.653942    0.346058\n",
       "54            0      -0.689737      -0.696569    0.501708    0.498292\n",
       "93            0      -0.631568      -0.758768    0.531757    0.468243\n",
       "100           0      -0.639689      -0.749626    0.527457    0.472543\n",
       "117           0      -0.682249      -0.704165    0.505479    0.494521\n",
       "122           0      -0.239494      -1.546584    0.787026    0.212974\n",
       "132           0      -0.410336      -1.088941    0.663427    0.336573\n",
       "135           0      -0.587404      -0.811409    0.555768    0.444232\n",
       "164           0      -0.365780      -1.183044    0.693655    0.306345"
      ]
     },
     "execution_count": 20,
     "metadata": {},
     "output_type": "execute_result"
    }
   ],
   "source": [
    "temp_pred_df[(temp_pred_df.Prediction==0)].head(10)"
   ]
  },
  {
   "cell_type": "code",
   "execution_count": 21,
   "metadata": {},
   "outputs": [
    {
     "data": {
      "text/html": [
       "<div>\n",
       "<style>\n",
       "    .dataframe thead tr:only-child th {\n",
       "        text-align: right;\n",
       "    }\n",
       "\n",
       "    .dataframe thead th {\n",
       "        text-align: left;\n",
       "    }\n",
       "\n",
       "    .dataframe tbody tr th {\n",
       "        vertical-align: top;\n",
       "    }\n",
       "</style>\n",
       "<table border=\"1\" class=\"dataframe\">\n",
       "  <thead>\n",
       "    <tr style=\"text-align: right;\">\n",
       "      <th></th>\n",
       "      <th>Prediction</th>\n",
       "      <th>class0LogProb</th>\n",
       "      <th>class1LogProb</th>\n",
       "      <th>class0Prob</th>\n",
       "      <th>class1Prob</th>\n",
       "    </tr>\n",
       "  </thead>\n",
       "  <tbody>\n",
       "    <tr>\n",
       "      <th>0</th>\n",
       "      <td>1</td>\n",
       "      <td>-2.915689</td>\n",
       "      <td>-0.055689</td>\n",
       "      <td>0.054167</td>\n",
       "      <td>0.945833</td>\n",
       "    </tr>\n",
       "    <tr>\n",
       "      <th>1</th>\n",
       "      <td>1</td>\n",
       "      <td>-1.303079</td>\n",
       "      <td>-0.317034</td>\n",
       "      <td>0.271694</td>\n",
       "      <td>0.728306</td>\n",
       "    </tr>\n",
       "    <tr>\n",
       "      <th>2</th>\n",
       "      <td>1</td>\n",
       "      <td>-1.603122</td>\n",
       "      <td>-0.224729</td>\n",
       "      <td>0.201267</td>\n",
       "      <td>0.798733</td>\n",
       "    </tr>\n",
       "    <tr>\n",
       "      <th>3</th>\n",
       "      <td>1</td>\n",
       "      <td>-1.623603</td>\n",
       "      <td>-0.219633</td>\n",
       "      <td>0.197187</td>\n",
       "      <td>0.802813</td>\n",
       "    </tr>\n",
       "    <tr>\n",
       "      <th>4</th>\n",
       "      <td>1</td>\n",
       "      <td>-1.460220</td>\n",
       "      <td>-0.264207</td>\n",
       "      <td>0.232185</td>\n",
       "      <td>0.767815</td>\n",
       "    </tr>\n",
       "    <tr>\n",
       "      <th>5</th>\n",
       "      <td>1</td>\n",
       "      <td>-2.269721</td>\n",
       "      <td>-0.109080</td>\n",
       "      <td>0.103341</td>\n",
       "      <td>0.896659</td>\n",
       "    </tr>\n",
       "    <tr>\n",
       "      <th>6</th>\n",
       "      <td>1</td>\n",
       "      <td>-0.980565</td>\n",
       "      <td>-0.470162</td>\n",
       "      <td>0.375099</td>\n",
       "      <td>0.624901</td>\n",
       "    </tr>\n",
       "    <tr>\n",
       "      <th>7</th>\n",
       "      <td>1</td>\n",
       "      <td>-1.706069</td>\n",
       "      <td>-0.200377</td>\n",
       "      <td>0.181578</td>\n",
       "      <td>0.818422</td>\n",
       "    </tr>\n",
       "    <tr>\n",
       "      <th>8</th>\n",
       "      <td>1</td>\n",
       "      <td>-1.664649</td>\n",
       "      <td>-0.209804</td>\n",
       "      <td>0.189257</td>\n",
       "      <td>0.810743</td>\n",
       "    </tr>\n",
       "    <tr>\n",
       "      <th>9</th>\n",
       "      <td>1</td>\n",
       "      <td>-1.536227</td>\n",
       "      <td>-0.242315</td>\n",
       "      <td>0.215191</td>\n",
       "      <td>0.784809</td>\n",
       "    </tr>\n",
       "  </tbody>\n",
       "</table>\n",
       "</div>"
      ],
      "text/plain": [
       "   Prediction  class0LogProb  class1LogProb  class0Prob  class1Prob\n",
       "0           1      -2.915689      -0.055689    0.054167    0.945833\n",
       "1           1      -1.303079      -0.317034    0.271694    0.728306\n",
       "2           1      -1.603122      -0.224729    0.201267    0.798733\n",
       "3           1      -1.623603      -0.219633    0.197187    0.802813\n",
       "4           1      -1.460220      -0.264207    0.232185    0.767815\n",
       "5           1      -2.269721      -0.109080    0.103341    0.896659\n",
       "6           1      -0.980565      -0.470162    0.375099    0.624901\n",
       "7           1      -1.706069      -0.200377    0.181578    0.818422\n",
       "8           1      -1.664649      -0.209804    0.189257    0.810743\n",
       "9           1      -1.536227      -0.242315    0.215191    0.784809"
      ]
     },
     "execution_count": 21,
     "metadata": {},
     "output_type": "execute_result"
    }
   ],
   "source": [
    "temp_pred_df[(temp_pred_df.Prediction==1)].head(10)"
   ]
  },
  {
   "cell_type": "markdown",
   "metadata": {},
   "source": [
    "<div class=\"span5 alert alert-info\">\n",
    "<h3>Exercise Set V: Working with the Best Parameters</h3>\n",
    "\n",
    "<p><b>Exercise:</b> Using the best value of  `alpha` you just found, calculate the accuracy on the training and test sets. Is this classifier better? Why (not)?</p>\n",
    "\n",
    "</div>"
   ]
  },
  {
   "cell_type": "code",
   "execution_count": 22,
   "metadata": {},
   "outputs": [
    {
     "name": "stdout",
     "output_type": "stream",
     "text": [
      "min-df: 0.001\n",
      "alpha: 5\n",
      "Accuracy on training data (%): 80.980938\n",
      "Accuracy on test data (%):     71.685641\n"
     ]
    }
   ],
   "source": [
    "vectorizer = CountVectorizer(min_df=best_min_df)\n",
    "X, y = make_xy(critics, vectorizer)\n",
    "xtrain=X[mask]\n",
    "ytrain=y[mask]\n",
    "xtest=X[~mask]\n",
    "ytest=y[~mask]\n",
    "\n",
    "clf = MultinomialNB(alpha=best_alpha).fit(xtrain, ytrain)\n",
    "\n",
    "#your turn. Print the accuracy on the test and training dataset\n",
    "training_accuracy = clf.score(xtrain, ytrain)\n",
    "test_accuracy = clf.score(xtest, ytest)\n",
    "print('min-df:',best_min_df)\n",
    "print('alpha:',best_alpha)\n",
    "print('Accuracy on training data (%): {:2f}'.format(training_accuracy * 100))\n",
    "print('Accuracy on test data (%):     {:2f}'.format(test_accuracy * 100))"
   ]
  },
  {
   "cell_type": "code",
   "execution_count": 23,
   "metadata": {
    "scrolled": true
   },
   "outputs": [
    {
     "name": "stdout",
     "output_type": "stream",
     "text": [
      "[[2080 2168]\n",
      " [ 916 5728]]\n"
     ]
    }
   ],
   "source": [
    "from sklearn.metrics import confusion_matrix\n",
    "print(confusion_matrix(ytest, clf.predict(xtest)))"
   ]
  },
  {
   "cell_type": "markdown",
   "metadata": {},
   "source": [
    "#### Exercise Set V:\n",
    "\n",
    "##### The previous run with the model looked like this:\n",
    "\n",
    "Accuracy on training data (%): 92.270780\n",
    "\n",
    "Accuracy on test data (%):     76.895400\n",
    "\n",
    "\n",
    "##### The most recent run:\n",
    "Accuracy on training data (%): 80.402656\n",
    "\n",
    "Accuracy on test data (%):     72.006978\n",
    "\n",
    "However, the second run has much less overfitting on the data."
   ]
  },
  {
   "cell_type": "markdown",
   "metadata": {},
   "source": [
    "## Interpretation"
   ]
  },
  {
   "cell_type": "markdown",
   "metadata": {},
   "source": [
    "### What are the strongly predictive features?\n",
    "\n",
    "We use a neat trick to identify strongly predictive features (i.e. words). \n",
    "\n",
    "* first, create a data set such that each row has exactly one feature. This is represented by the identity matrix.\n",
    "* use the trained classifier to make predictions on this matrix\n",
    "* sort the rows by predicted probabilities, and pick the top and bottom $K$ rows"
   ]
  },
  {
   "cell_type": "code",
   "execution_count": 24,
   "metadata": {},
   "outputs": [
    {
     "name": "stdout",
     "output_type": "stream",
     "text": [
      "Good words\t     P(fresh | word)\n",
      "         masterpiece 0.87\n",
      "            american 0.86\n",
      "        entertaining 0.85\n",
      "               gives 0.84\n",
      "            touching 0.83\n",
      "             delight 0.83\n",
      "                ever 0.83\n",
      "               years 0.83\n",
      "           excellent 0.83\n",
      "              cinema 0.83\n",
      "Bad words\t     P(fresh | word)\n",
      "      disappointment 0.29\n",
      "            tiresome 0.29\n",
      "           pointless 0.29\n",
      "          uninspired 0.28\n",
      "       unfortunately 0.27\n",
      "               feels 0.27\n",
      "               fails 0.27\n",
      "                dull 0.24\n",
      "               bland 0.24\n",
      "                lame 0.24\n"
     ]
    }
   ],
   "source": [
    "words = np.array(vectorizer.get_feature_names())\n",
    "\n",
    "x = np.eye(xtest.shape[1])\n",
    "probs = clf.predict_log_proba(x)[:, 0]\n",
    "ind = np.argsort(probs)\n",
    "\n",
    "good_words = words[ind[:10]]\n",
    "bad_words = words[ind[-10:]]\n",
    "\n",
    "good_prob = probs[ind[:10]]\n",
    "bad_prob = probs[ind[-10:]]\n",
    "\n",
    "print(\"Good words\\t     P(fresh | word)\")\n",
    "for w, p in zip(good_words, good_prob):\n",
    "    print(\"{:>20}\".format(w), \"{:.2f}\".format(1 - np.exp(p)))\n",
    "    \n",
    "print(\"Bad words\\t     P(fresh | word)\")\n",
    "for w, p in zip(bad_words, bad_prob):\n",
    "    print(\"{:>20}\".format(w), \"{:.2f}\".format(1 - np.exp(p)))"
   ]
  },
  {
   "cell_type": "markdown",
   "metadata": {},
   "source": [
    "<div class=\"span5 alert alert-info\">\n",
    "<h3>Exercise Set VI</h3>\n",
    "\n",
    "<p><b>Exercise:</b> Why does this method work? What does the probability for each row in the identity matrix represent</p>\n",
    "\n",
    "</div>"
   ]
  },
  {
   "cell_type": "markdown",
   "metadata": {},
   "source": [
    "The above exercise is an example of *feature selection*. There are many other feature selection methods. A list of feature selection methods available in `sklearn` is [here](http://scikit-learn.org/stable/modules/classes.html#module-sklearn.feature_selection). The most common feature selection technique for text mining is the chi-squared $\\left( \\chi^2 \\right)$ [method](http://nlp.stanford.edu/IR-book/html/htmledition/feature-selectionchi2-feature-selection-1.html)."
   ]
  },
  {
   "cell_type": "markdown",
   "metadata": {},
   "source": [
    "#### Exercise Set VI:\n",
    "\n",
    "This bayesian method works as the probability of each row in the identity matrix serves as the probability of each document in the corpus as a \"Fresh\" or (1) Rotten Tomatoes rating."
   ]
  },
  {
   "cell_type": "markdown",
   "metadata": {},
   "source": [
    "### Prediction Errors\n",
    "\n",
    "We can see mis-predictions as well."
   ]
  },
  {
   "cell_type": "code",
   "execution_count": 25,
   "metadata": {},
   "outputs": [
    {
     "name": "stdout",
     "output_type": "stream",
     "text": [
      "Mis-predicted Rotten quotes\n",
      "---------------------------\n",
      "Directed with composure, but no great fervour, the film's conspicuously uninterested in American football, and much concerned with testing the limits and the resilience of the American dream.\n",
      "\n",
      "Everytime I see one of these antiseptic Disney films, I'm reminded of the thrills and genuine artistry that went into the studio's films during its golden age in the 1940s and 1950s.\n",
      "\n",
      "Despite some likable performances (Epps is especially winning), the drama in Higher Learning is constricted, hemmed in by Singleton's compulsion to view his characters as walking paradigms of racial and sexual politics.\n",
      "\n",
      "With its feints at horror and pathos, the third Star Wars film is the most Disney-esque in its emotional outline, yet that outline is buried beneath an obnoxiously hyped-up pace that reduces the emotions to rubble.\n",
      "\n",
      "All of the special effects in the world, and all of the great makeup, and all of the great Muppet creatures can't save a movie that has no clear idea of its own mission and no joy in its own accomplishment.\n",
      "\n",
      "Mis-predicted Fresh quotes\n",
      "--------------------------\n",
      "Considering the recent screen standards in book musicals with five numbers for 100 to 110 minutes of running time this Metro Santaclausing of numbers becomes virtually a double-feature filmusical.\n",
      "\n",
      "There's too much talent and too strong a story to mess it up. There was potential for more here, but this incarnation is nothing to be ashamed of, and some of the actors answer the bell.\n",
      "\n",
      "This cautionary fable (Be True to Your Ghoulish Self) may be a little too twisted for little kids but anyone 8 or older will spot the friendly glint behind jack's empty eye sockets.\n",
      "\n",
      "A kind of insane logic seems to connect the sketches, if you look hard enough, but mostly the movie seems to exist in the present and be willing to try anything for a laugh.\n",
      "\n",
      "Though it's a good half hour too long, this overblown 1993 spin-off of the 60s TV show otherwise adds up to a pretty good suspense thriller.\n",
      "\n"
     ]
    }
   ],
   "source": [
    "x, y = make_xy(critics, vectorizer)\n",
    "\n",
    "prob = clf.predict_proba(x)[:, 0]\n",
    "predict = clf.predict(x)\n",
    "\n",
    "bad_rotten = np.argsort(prob[y == 0])[:5]\n",
    "bad_fresh = np.argsort(prob[y == 1])[-5:]\n",
    "\n",
    "print(\"Mis-predicted Rotten quotes\")\n",
    "print('---------------------------')\n",
    "for row in bad_rotten:\n",
    "    print(critics[y == 0].quote.iloc[row])\n",
    "    print(\"\")\n",
    "\n",
    "print(\"Mis-predicted Fresh quotes\")\n",
    "print('--------------------------')\n",
    "for row in bad_fresh:\n",
    "    print(critics[y == 1].quote.iloc[row])\n",
    "    print(\"\")"
   ]
  },
  {
   "cell_type": "markdown",
   "metadata": {},
   "source": [
    "<div class=\"span5 alert alert-info\">\n",
    "<h3>Exercise Set VII: Predicting the Freshness for a New Review</h3>\n",
    "<br/>\n",
    "<div>\n",
    "<b>Exercise:</b>\n",
    "<ul>\n",
    "<li> Using your best trained classifier, predict the freshness of the following sentence: *'This movie is not remarkable, touching, or superb in any way'*\n",
    "<li> Is the result what you'd expect? Why (not)?\n",
    "</ul>\n",
    "</div>\n",
    "</div>"
   ]
  },
  {
   "cell_type": "code",
   "execution_count": 26,
   "metadata": {},
   "outputs": [
    {
     "name": "stdout",
     "output_type": "stream",
     "text": [
      "Model predicts as **Fresh** with a probability of  94.56\n"
     ]
    }
   ],
   "source": [
    "#your turn\n",
    "test_string = ['This movie is not remarkable, touching, or superb in any way']\n",
    "test_string_vect = vectorizer.transform(test_string)\n",
    "if clf.predict(test_string_vect)[0]==1:\n",
    "    print('Model predicts as **Fresh** with a probability of  %2.2f' %(100*clf.predict_proba(test_string_vect)[0,1]))\n",
    "else:\n",
    "    print('Model predicts as **Rotten** with a probability of  %2.2f' %(100*clf.predict_proba(test_string_vect)[0,0]))\n"
   ]
  },
  {
   "cell_type": "markdown",
   "metadata": {},
   "source": [
    "#### Exercise: \n",
    "\n",
    "The model predicted the review as Fresh, despite the negation word \"not.\" The model saw the words such as \"remarkable,\" \"touching,\" and \"superb\" and attributed those within the document as positive overall score. With no weights on words, the model took the overall positive associative words to ranked the review as 'Fresh'"
   ]
  },
  {
   "cell_type": "markdown",
   "metadata": {},
   "source": [
    "### Aside: TF-IDF Weighting for Term Importance\n",
    "\n",
    "TF-IDF stands for \n",
    "\n",
    "`Term-Frequency X Inverse Document Frequency`.\n",
    "\n",
    "In the standard `CountVectorizer` model above, we used just the term frequency in a document of words in our vocabulary. In TF-IDF, we weight this term frequency by the inverse of its popularity in all documents. For example, if the word \"movie\" showed up in all the documents, it would not have much predictive value. It could actually be considered a stopword. By weighing its counts by 1 divided by its overall frequency, we downweight it. We can then use this TF-IDF weighted features as inputs to any classifier. **TF-IDF is essentially a measure of term importance, and of how discriminative a word is in a corpus.** There are a variety of nuances involved in computing TF-IDF, mainly involving where to add the smoothing term to avoid division by 0, or log of 0 errors. The formula for TF-IDF in `scikit-learn` differs from that of most textbooks: \n",
    "\n",
    "$$\\mbox{TF-IDF}(t, d) = \\mbox{TF}(t, d)\\times \\mbox{IDF}(t) = n_{td} \\log{\\left( \\frac{\\vert D \\vert}{\\vert d : t \\in d \\vert} + 1 \\right)}$$\n",
    "\n",
    "where $n_{td}$ is the number of times term $t$ occurs in document $d$, $\\vert D \\vert$ is the number of documents, and $\\vert d : t \\in d \\vert$ is the number of documents that contain $t$"
   ]
  },
  {
   "cell_type": "code",
   "execution_count": 27,
   "metadata": {},
   "outputs": [],
   "source": [
    "# http://scikit-learn.org/dev/modules/feature_extraction.html#text-feature-extraction\n",
    "# http://scikit-learn.org/dev/modules/classes.html#text-feature-extraction-ref\n",
    "from sklearn.feature_extraction.text import TfidfVectorizer\n",
    "tfidfvectorizer = TfidfVectorizer(min_df=1, stop_words='english')\n",
    "Xtfidf=tfidfvectorizer.fit_transform(critics.quote)"
   ]
  },
  {
   "cell_type": "markdown",
   "metadata": {},
   "source": [
    "<div class=\"span5 alert alert-info\">\n",
    "<h3>Exercise Set VIII: Enrichment</h3>\n",
    "\n",
    "<p>\n",
    "There are several additional things we could try. Try some of these as exercises:\n",
    "<ol>\n",
    "<li> Build a Naive Bayes model where the features are n-grams instead of words. N-grams are phrases containing n words next to each other: a bigram contains 2 words, a trigram contains 3 words, and 6-gram contains 6 words. This is useful because \"not good\" and \"so good\" mean very different things. On the other hand, as n increases, the model does not scale well since the feature set becomes more sparse.\n",
    "<li> Try a model besides Naive Bayes, one that would allow for interactions between words -- for example, a Random Forest classifier.\n",
    "<li> Try adding supplemental features -- information about genre, director, cast, etc.\n",
    "<li> Use word2vec or [Latent Dirichlet Allocation](https://en.wikipedia.org/wiki/Latent_Dirichlet_allocation) to group words into topics and use those topics for prediction.\n",
    "<li> Use TF-IDF weighting instead of word counts.\n",
    "</ol>\n",
    "</p>\n",
    "\n",
    "<b>Exercise:</b> Try a few of these ideas to improve the model (or any other ideas of your own). Implement here and report on the result.\n",
    "</div>"
   ]
  },
  {
   "cell_type": "code",
   "execution_count": 28,
   "metadata": {},
   "outputs": [],
   "source": [
    "def find_good_bad_words(vectorizer,clf):\n",
    "    words = np.array(vectorizer.get_feature_names())\n",
    "    x = np.eye(len(words))\n",
    "    probs = clf.predict_log_proba(x)[:, 0]\n",
    "    ind = np.argsort(probs)\n",
    "\n",
    "    good_words = words[ind[:10]]\n",
    "    bad_words = words[ind[-10:]]\n",
    "\n",
    "    good_prob = probs[ind[:10]]\n",
    "    bad_prob = probs[ind[-10:]]\n",
    "    print(\"Good words\\t     P(fresh | word)\")\n",
    "    for w, p in zip(good_words, good_prob):\n",
    "        print(\"{:>20}\".format(w), \"{:.2f}\".format(1 - np.exp(p)))\n",
    "\n",
    "    print(\"Bad words\\t     P(fresh | word)\")\n",
    "    for w, p in zip(bad_words, bad_prob):\n",
    "        print(\"{:>20}\".format(w), \"{:.2f}\".format(1 - np.exp(p)))\n",
    "\n"
   ]
  },
  {
   "cell_type": "markdown",
   "metadata": {},
   "source": [
    "#### Exercise 1:"
   ]
  },
  {
   "cell_type": "code",
   "execution_count": 29,
   "metadata": {},
   "outputs": [
    {
     "name": "stdout",
     "output_type": "stream",
     "text": [
      "alpha : 1  min_df : 0  score : 0.701221451834\n",
      "alpha : 1  min_df : 9e-05  score : 0.7324887368\n",
      "alpha : 1  min_df : 0.0001  score : 0.7324887368\n",
      "alpha : 1  min_df : 0.001  score : 0.73720287071\n",
      "alpha : 1  min_df : 0.005  score : 0.670592433976\n",
      "alpha : 1  min_df : 0.01  score : 0.651960588555\n",
      "alpha : 5  min_df : 0  score : 0.624543103112\n",
      "alpha : 5  min_df : 9e-05  score : 0.641892676568\n",
      "alpha : 5  min_df : 0.0001  score : 0.641892676568\n",
      "alpha : 5  min_df : 0.001  score : 0.712784850509\n",
      "alpha : 5  min_df : 0.005  score : 0.664594880552\n",
      "alpha : 5  min_df : 0.01  score : 0.647033698943\n",
      "alpha : 10  min_df : 0  score : 0.613832792837\n",
      "alpha : 10  min_df : 9e-05  score : 0.618545090668\n",
      "alpha : 10  min_df : 0.0001  score : 0.618545090668\n",
      "alpha : 10  min_df : 0.001  score : 0.684509915976\n",
      "alpha : 10  min_df : 0.005  score : 0.663093885626\n",
      "alpha : 10  min_df : 0.01  score : 0.649602833071\n",
      "alpha : 50  min_df : 0  score : 0.608264422978\n",
      "alpha : 50  min_df : 9e-05  score : 0.608264422978\n",
      "alpha : 50  min_df : 0.0001  score : 0.608264422978\n",
      "alpha : 50  min_df : 0.001  score : 0.610405980111\n",
      "alpha : 50  min_df : 0.005  score : 0.628609789516\n",
      "alpha : 50  min_df : 0.01  score : 0.636747982034\n",
      "best alpha: 1 best min-df: 0.001 best score: 0.73720287071\n"
     ]
    }
   ],
   "source": [
    "# Your turn\n",
    "\n",
    "def clf_score(clf, x, y):\n",
    "    score = clf.score(x,y)\n",
    "    return score\n",
    "\n",
    "\n",
    "alphas = [1,5,10,50]\n",
    "ngrm_min_df = [0,0.00009,0.0001,0.001,0.005,0.01]\n",
    "best_score=-np.inf\n",
    "best_alpha, best_min_df = None, None\n",
    "for alpha in alphas:\n",
    "    for min_df in ngrm_min_df:\n",
    "        vectorizer = CountVectorizer(min_df=min_df,ngram_range=(1, 3))            \n",
    "        X, y = make_xy(critics, vectorizer)\n",
    "        X_train = X[mask]\n",
    "        y_train = y[mask]\n",
    "        clf = MultinomialNB(alpha=alpha)\n",
    "        score = cv_score(clf,X_train,y_train,clf_score)\n",
    "        print('alpha :',alpha,' min_df :',min_df,' score :',score)\n",
    "        if score > best_score:\n",
    "            best_score=score\n",
    "            best_alpha = alpha\n",
    "            best_min_df = min_df\n",
    "\n",
    "print('best alpha:',best_alpha,'best min-df:',best_min_df,'best score:',best_score)"
   ]
  },
  {
   "cell_type": "code",
   "execution_count": 30,
   "metadata": {
    "scrolled": true
   },
   "outputs": [
    {
     "name": "stdout",
     "output_type": "stream",
     "text": [
      "Accuracy on training data: 0.850717\n",
      "Accuracy on test data:     0.721080\n"
     ]
    }
   ],
   "source": [
    "vectorizer = CountVectorizer(min_df=best_min_df,ngram_range=(1, 3),token_pattern=r'\\b\\w+\\b')  \n",
    "X, y = make_xy(critics, vectorizer)\n",
    "X_train=X[mask]\n",
    "y_train=y[mask]\n",
    "X_test=X[~mask]\n",
    "y_test=y[~mask]\n",
    "\n",
    "clf = MultinomialNB(alpha=best_alpha).fit(X_train, y_train)\n",
    "\n",
    "training_accuracy = clf.score(X_train, y_train)\n",
    "test_accuracy = clf.score(X_test, y_test)\n",
    "\n",
    "print(\"Accuracy on training data: {:2f}\".format(training_accuracy))\n",
    "print(\"Accuracy on test data:     {:2f}\".format(test_accuracy))"
   ]
  },
  {
   "cell_type": "markdown",
   "metadata": {},
   "source": [
    "#### From first glance, this model has a great score on accuracy and does not appear to be overfitting in any way. Overall this looks like a good model."
   ]
  },
  {
   "cell_type": "code",
   "execution_count": 31,
   "metadata": {
    "scrolled": true
   },
   "outputs": [
    {
     "name": "stdout",
     "output_type": "stream",
     "text": [
      "Good words\t     P(fresh | word)\n",
      "         masterpiece 0.96\n",
      "             delight 0.95\n",
      "           the right 0.95\n",
      "              finest 0.95\n",
      "            makes it 0.94\n",
      "           ever made 0.94\n",
      "               known 0.94\n",
      "          thoroughly 0.94\n",
      "        the american 0.93\n",
      "    entertaining and 0.92\n",
      "Bad words\t     P(fresh | word)\n",
      "             s not a 0.11\n",
      "       collection of 0.11\n",
      "          collection 0.11\n",
      "            tiresome 0.10\n",
      "           pointless 0.10\n",
      "      disappointment 0.10\n",
      "             only to 0.09\n",
      "          uninspired 0.09\n",
      "               bland 0.07\n",
      "                lame 0.07\n"
     ]
    }
   ],
   "source": [
    "find_good_bad_words(vectorizer, clf)"
   ]
  },
  {
   "cell_type": "markdown",
   "metadata": {},
   "source": [
    "#### Exercise 2:"
   ]
  },
  {
   "cell_type": "code",
   "execution_count": 32,
   "metadata": {},
   "outputs": [
    {
     "name": "stderr",
     "output_type": "stream",
     "text": [
      "c:\\users\\kj.park\\appdata\\local\\programs\\python\\python36\\lib\\site-packages\\sklearn\\cross_validation.py:41: DeprecationWarning: This module was deprecated in version 0.18 in favor of the model_selection module into which all the refactored classes and functions are moved. Also note that the interface of the new CV iterators are different from that of this module. This module will be removed in 0.20.\n",
      "  \"This module will be removed in 0.20.\", DeprecationWarning)\n",
      "c:\\users\\kj.park\\appdata\\local\\programs\\python\\python36\\lib\\site-packages\\sklearn\\grid_search.py:42: DeprecationWarning: This module was deprecated in version 0.18 in favor of the model_selection module into which all the refactored classes and functions are moved. This module will be removed in 0.20.\n",
      "  DeprecationWarning)\n"
     ]
    },
    {
     "name": "stdout",
     "output_type": "stream",
     "text": [
      "min_df: 1e-05\n",
      "\n",
      "\n",
      "Best Estimator: RandomForestClassifier(bootstrap=True, class_weight=None, criterion='gini',\n",
      "            max_depth=None, max_features='log2', max_leaf_nodes=None,\n",
      "            min_impurity_decrease=0.0, min_impurity_split=None,\n",
      "            min_samples_leaf=1, min_samples_split=2,\n",
      "            min_weight_fraction_leaf=0.0, n_estimators=60, n_jobs=1,\n",
      "            oob_score=False, random_state=None, verbose=0,\n",
      "            warm_start=False)\n",
      "\n",
      "\n",
      "Best Parameters: {'max_features': 'log2', 'n_estimators': 60}\n",
      "\n",
      "\n",
      "Best Score: 0.6637395587920325\n",
      "\n",
      "\n",
      "Grid Scores: [mean: 0.63975, std: 0.00841, params: {'max_features': 'auto', 'n_estimators': 10}, mean: 0.64296, std: 0.01223, params: {'max_features': 'auto', 'n_estimators': 20}, mean: 0.64639, std: 0.00292, params: {'max_features': 'auto', 'n_estimators': 40}, mean: 0.64125, std: 0.00204, params: {'max_features': 'auto', 'n_estimators': 50}, mean: 0.64146, std: 0.00496, params: {'max_features': 'auto', 'n_estimators': 60}, mean: 0.64575, std: 0.00861, params: {'max_features': 'auto', 'n_estimators': 70}, mean: 0.65282, std: 0.00571, params: {'max_features': 'sqrt', 'n_estimators': 10}, mean: 0.64575, std: 0.00951, params: {'max_features': 'sqrt', 'n_estimators': 20}, mean: 0.64232, std: 0.00368, params: {'max_features': 'sqrt', 'n_estimators': 40}, mean: 0.64682, std: 0.00184, params: {'max_features': 'sqrt', 'n_estimators': 50}, mean: 0.64746, std: 0.00165, params: {'max_features': 'sqrt', 'n_estimators': 60}, mean: 0.63847, std: 0.00573, params: {'max_features': 'sqrt', 'n_estimators': 70}, mean: 0.62947, std: 0.00959, params: {'max_features': 'log2', 'n_estimators': 10}, mean: 0.64318, std: 0.00513, params: {'max_features': 'log2', 'n_estimators': 20}, mean: 0.65839, std: 0.01274, params: {'max_features': 'log2', 'n_estimators': 40}, mean: 0.66031, std: 0.01544, params: {'max_features': 'log2', 'n_estimators': 50}, mean: 0.66374, std: 0.01172, params: {'max_features': 'log2', 'n_estimators': 60}, mean: 0.65924, std: 0.00587, params: {'max_features': 'log2', 'n_estimators': 70}]\n",
      "min_df: 0.0005\n",
      "\n",
      "\n",
      "Best Estimator: RandomForestClassifier(bootstrap=True, class_weight=None, criterion='gini',\n",
      "            max_depth=None, max_features='log2', max_leaf_nodes=None,\n",
      "            min_impurity_decrease=0.0, min_impurity_split=None,\n",
      "            min_samples_leaf=1, min_samples_split=2,\n",
      "            min_weight_fraction_leaf=0.0, n_estimators=50, n_jobs=1,\n",
      "            oob_score=False, random_state=None, verbose=0,\n",
      "            warm_start=False)\n",
      "\n",
      "\n",
      "Best Parameters: {'max_features': 'log2', 'n_estimators': 50}\n",
      "\n",
      "\n",
      "Best Score: 0.690511886913686\n",
      "\n",
      "\n",
      "Grid Scores: [mean: 0.66053, std: 0.01549, params: {'max_features': 'auto', 'n_estimators': 10}, mean: 0.66438, std: 0.00993, params: {'max_features': 'auto', 'n_estimators': 20}, mean: 0.67295, std: 0.01057, params: {'max_features': 'auto', 'n_estimators': 40}, mean: 0.66974, std: 0.01009, params: {'max_features': 'auto', 'n_estimators': 50}, mean: 0.67359, std: 0.01091, params: {'max_features': 'auto', 'n_estimators': 60}, mean: 0.67702, std: 0.01020, params: {'max_features': 'auto', 'n_estimators': 70}, mean: 0.65753, std: 0.01033, params: {'max_features': 'sqrt', 'n_estimators': 10}, mean: 0.66203, std: 0.00364, params: {'max_features': 'sqrt', 'n_estimators': 20}, mean: 0.67166, std: 0.01384, params: {'max_features': 'sqrt', 'n_estimators': 40}, mean: 0.67274, std: 0.01217, params: {'max_features': 'sqrt', 'n_estimators': 50}, mean: 0.67916, std: 0.00901, params: {'max_features': 'sqrt', 'n_estimators': 60}, mean: 0.67488, std: 0.00828, params: {'max_features': 'sqrt', 'n_estimators': 70}, mean: 0.65025, std: 0.00994, params: {'max_features': 'log2', 'n_estimators': 10}, mean: 0.66117, std: 0.01090, params: {'max_features': 'log2', 'n_estimators': 20}, mean: 0.67916, std: 0.01120, params: {'max_features': 'log2', 'n_estimators': 40}, mean: 0.69051, std: 0.00565, params: {'max_features': 'log2', 'n_estimators': 50}, mean: 0.67937, std: 0.00747, params: {'max_features': 'log2', 'n_estimators': 60}, mean: 0.68966, std: 0.00822, params: {'max_features': 'log2', 'n_estimators': 70}]\n",
      "min_df: 0.0001\n",
      "\n",
      "\n",
      "Best Estimator: RandomForestClassifier(bootstrap=True, class_weight=None, criterion='gini',\n",
      "            max_depth=None, max_features='log2', max_leaf_nodes=None,\n",
      "            min_impurity_decrease=0.0, min_impurity_split=None,\n",
      "            min_samples_leaf=1, min_samples_split=2,\n",
      "            min_weight_fraction_leaf=0.0, n_estimators=70, n_jobs=1,\n",
      "            oob_score=False, random_state=None, verbose=0,\n",
      "            warm_start=False)\n",
      "\n",
      "\n",
      "Best Parameters: {'max_features': 'log2', 'n_estimators': 70}\n",
      "\n",
      "\n",
      "Best Score: 0.6847290640394089\n",
      "\n",
      "\n",
      "Grid Scores: [mean: 0.65432, std: 0.01634, params: {'max_features': 'auto', 'n_estimators': 10}, mean: 0.65689, std: 0.00905, params: {'max_features': 'auto', 'n_estimators': 20}, mean: 0.66545, std: 0.01298, params: {'max_features': 'auto', 'n_estimators': 40}, mean: 0.65903, std: 0.00893, params: {'max_features': 'auto', 'n_estimators': 50}, mean: 0.65774, std: 0.00902, params: {'max_features': 'auto', 'n_estimators': 60}, mean: 0.66417, std: 0.00981, params: {'max_features': 'auto', 'n_estimators': 70}, mean: 0.66288, std: 0.00211, params: {'max_features': 'sqrt', 'n_estimators': 10}, mean: 0.66117, std: 0.01101, params: {'max_features': 'sqrt', 'n_estimators': 20}, mean: 0.66310, std: 0.00727, params: {'max_features': 'sqrt', 'n_estimators': 40}, mean: 0.66031, std: 0.00508, params: {'max_features': 'sqrt', 'n_estimators': 50}, mean: 0.66460, std: 0.00969, params: {'max_features': 'sqrt', 'n_estimators': 60}, mean: 0.66310, std: 0.01053, params: {'max_features': 'sqrt', 'n_estimators': 70}, mean: 0.63140, std: 0.00677, params: {'max_features': 'log2', 'n_estimators': 10}, mean: 0.66438, std: 0.00315, params: {'max_features': 'log2', 'n_estimators': 20}, mean: 0.67423, std: 0.00729, params: {'max_features': 'log2', 'n_estimators': 40}, mean: 0.67595, std: 0.00311, params: {'max_features': 'log2', 'n_estimators': 50}, mean: 0.67231, std: 0.00644, params: {'max_features': 'log2', 'n_estimators': 60}, mean: 0.68473, std: 0.00824, params: {'max_features': 'log2', 'n_estimators': 70}]\n",
      "min_df: 0.001\n",
      "\n",
      "\n",
      "Best Estimator: RandomForestClassifier(bootstrap=True, class_weight=None, criterion='gini',\n",
      "            max_depth=None, max_features='log2', max_leaf_nodes=None,\n",
      "            min_impurity_decrease=0.0, min_impurity_split=None,\n",
      "            min_samples_leaf=1, min_samples_split=2,\n",
      "            min_weight_fraction_leaf=0.0, n_estimators=70, n_jobs=1,\n",
      "            oob_score=False, random_state=None, verbose=0,\n",
      "            warm_start=False)\n",
      "\n",
      "\n",
      "Best Parameters: {'max_features': 'log2', 'n_estimators': 70}\n",
      "\n",
      "\n",
      "Best Score: 0.6937245662882844\n",
      "\n",
      "\n",
      "Grid Scores: [mean: 0.64960, std: 0.00837, params: {'max_features': 'auto', 'n_estimators': 10}, mean: 0.66224, std: 0.00980, params: {'max_features': 'auto', 'n_estimators': 20}, mean: 0.67488, std: 0.00192, params: {'max_features': 'auto', 'n_estimators': 40}, mean: 0.68194, std: 0.00395, params: {'max_features': 'auto', 'n_estimators': 50}, mean: 0.67723, std: 0.00311, params: {'max_features': 'auto', 'n_estimators': 60}, mean: 0.68344, std: 0.00611, params: {'max_features': 'auto', 'n_estimators': 70}, mean: 0.66374, std: 0.00140, params: {'max_features': 'sqrt', 'n_estimators': 10}, mean: 0.66588, std: 0.00763, params: {'max_features': 'sqrt', 'n_estimators': 20}, mean: 0.68302, std: 0.00308, params: {'max_features': 'sqrt', 'n_estimators': 40}, mean: 0.67916, std: 0.00208, params: {'max_features': 'sqrt', 'n_estimators': 50}, mean: 0.67937, std: 0.00696, params: {'max_features': 'sqrt', 'n_estimators': 60}, mean: 0.67980, std: 0.00777, params: {'max_features': 'sqrt', 'n_estimators': 70}, mean: 0.62712, std: 0.02049, params: {'max_features': 'log2', 'n_estimators': 10}, mean: 0.65988, std: 0.00347, params: {'max_features': 'log2', 'n_estimators': 20}, mean: 0.68516, std: 0.00323, params: {'max_features': 'log2', 'n_estimators': 40}, mean: 0.68494, std: 0.01048, params: {'max_features': 'log2', 'n_estimators': 50}, mean: 0.69137, std: 0.00542, params: {'max_features': 'log2', 'n_estimators': 60}, mean: 0.69372, std: 0.00665, params: {'max_features': 'log2', 'n_estimators': 70}]\n"
     ]
    }
   ],
   "source": [
    "from sklearn.ensemble import RandomForestClassifier\n",
    "from sklearn.grid_search import GridSearchCV\n",
    "mindfs=[0.00001,0.0005,0.0001,0.001]\n",
    "for mindf in mindfs:\n",
    "    vectorizer = CountVectorizer(min_df=mindf,ngram_range=(1, 2),token_pattern=r'\\b\\w+\\b')\n",
    "    X, y = make_xy(critics, vectorizer)\n",
    "    X_train = X[mask]\n",
    "    y_train = y[mask]\n",
    "    X_test = X[~mask]\n",
    "    y_test = y[~mask]\n",
    "    features=np.sqrt(len(vectorizer.get_feature_names()))\n",
    "    parameters = {\"n_estimators\": [10,20,40,50,60,70],\"max_features\":['auto','sqrt','log2']}\n",
    "    clf = RandomForestClassifier()\n",
    "    fitmodel = GridSearchCV(clf, param_grid=parameters, scoring=\"accuracy\")\n",
    "    fitmodel.fit(X_train, y_train)\n",
    "    print('min_df:',mindf)\n",
    "    print('\\n')\n",
    "    print('Best Estimator:',fitmodel.best_estimator_)\n",
    "    print('\\n')\n",
    "    print('Best Parameters:',fitmodel.best_params_)\n",
    "    print('\\n')\n",
    "    print('Best Score:',fitmodel.best_score_)\n",
    "    print('\\n')\n",
    "    print('Grid Scores:', fitmodel.grid_scores_)"
   ]
  },
  {
   "cell_type": "code",
   "execution_count": 33,
   "metadata": {},
   "outputs": [
    {
     "data": {
      "text/plain": [
       "RandomForestClassifier(bootstrap=True, class_weight=None, criterion='gini',\n",
       "            max_depth=None, max_features='log2', max_leaf_nodes=None,\n",
       "            min_impurity_decrease=0.0, min_impurity_split=None,\n",
       "            min_samples_leaf=1, min_samples_split=2,\n",
       "            min_weight_fraction_leaf=0.0, n_estimators=70, n_jobs=1,\n",
       "            oob_score=False, random_state=None, verbose=0,\n",
       "            warm_start=False)"
      ]
     },
     "execution_count": 33,
     "metadata": {},
     "output_type": "execute_result"
    }
   ],
   "source": [
    "clf = RandomForestClassifier(bootstrap=True, class_weight=None, criterion='gini',\n",
    "            max_depth=None, max_features='log2', max_leaf_nodes=None,\n",
    "            min_impurity_decrease=0.0, min_impurity_split=None,\n",
    "            min_samples_leaf=1, min_samples_split=2,\n",
    "            min_weight_fraction_leaf=0.0, n_estimators=70, n_jobs=1,\n",
    "            oob_score=False, random_state=None, verbose=0,\n",
    "            warm_start=False)\n",
    "clf.fit(X_train, y_train)"
   ]
  },
  {
   "cell_type": "code",
   "execution_count": 34,
   "metadata": {},
   "outputs": [
    {
     "name": "stdout",
     "output_type": "stream",
     "text": [
      "Good words\t     P(fresh | word)\n",
      "               funny 0.99\n",
      "           hilarious 0.98\n",
      "        entertaining 0.97\n",
      "             perfect 0.92\n",
      "                work 0.91\n",
      "         masterpiece 0.90\n",
      "           inventive 0.90\n",
      "                good 0.89\n",
      "         fascinating 0.87\n",
      "       entertainment 0.87\n",
      "Bad words\t     P(fresh | word)\n",
      "             muddled 0.20\n",
      "                camp 0.20\n",
      "                 not 0.20\n",
      "              sloppy 0.18\n",
      "                   a 0.16\n",
      "                dull 0.15\n",
      "            emotions 0.14\n",
      "         predictable 0.14\n",
      "             tedious 0.13\n",
      "       disappointing 0.10\n"
     ]
    }
   ],
   "source": [
    "find_good_bad_words(vectorizer, clf)"
   ]
  },
  {
   "cell_type": "code",
   "execution_count": 36,
   "metadata": {
    "scrolled": true
   },
   "outputs": [
    {
     "name": "stdout",
     "output_type": "stream",
     "text": [
      "Accuracy on training data (Random Forest): 0.996787\n",
      "Accuracy on test data (Random Forest):     0.692802\n"
     ]
    }
   ],
   "source": [
    "training_accuracy = clf.score(X_train, y_train)\n",
    "test_accuracy = clf.score(X_test, y_test)\n",
    "\n",
    "print(\"Accuracy on training data (Random Forest): {:2f}\".format(training_accuracy))\n",
    "print(\"Accuracy on test data (Random Forest):     {:2f}\".format(test_accuracy))"
   ]
  },
  {
   "cell_type": "markdown",
   "metadata": {},
   "source": [
    "#### Looks like the model scored worse, and it really seems like there is overfitting going on for the traning data."
   ]
  },
  {
   "cell_type": "markdown",
   "metadata": {},
   "source": [
    "#### Exercise 3:"
   ]
  },
  {
   "cell_type": "code",
   "execution_count": 38,
   "metadata": {},
   "outputs": [],
   "source": [
    "#create supplmental features by adding critic \tfresh \timdb \tpublication \tquote \treview_date \trtid \ttitle"
   ]
  },
  {
   "cell_type": "code",
   "execution_count": 43,
   "metadata": {},
   "outputs": [
    {
     "name": "stdout",
     "output_type": "stream",
     "text": [
      "Accuracy on training data: 0.769972\n",
      "Accuracy on test data:     0.653691\n"
     ]
    }
   ],
   "source": [
    "import scipy\n",
    "def make_xy(critics, vectorizer=None):\n",
    "    #Your code here    \n",
    "    if vectorizer is None:\n",
    "        vectorizer = TfidfVectorizer()\n",
    "    X_combined = (critics.quote + ' ' + critics.title + ' ' + critics.publication).values\n",
    "    X = vectorizer.fit_transform(X_combined)\n",
    "    y = (critics.fresh == 'fresh').values.astype(np.int)\n",
    "    return X, y\n",
    "\n",
    "X, y = make_xy(critics)\n",
    "\n",
    "X_train = X[mask]\n",
    "y_train = y[mask]\n",
    "X_test = X[~mask]\n",
    "y_test = y[~mask]\n",
    "\n",
    "clf = MultinomialNB(alpha=best_alpha).fit(X_train, y_train)\n",
    "\n",
    "training_accuracy = clf.score(X_train, y_train)\n",
    "test_accuracy = clf.score(X_test, y_test)\n",
    "\n",
    "print(\"Accuracy on training data: {:2f}\".format(training_accuracy))\n",
    "print(\"Accuracy on test data:     {:2f}\".format(test_accuracy))"
   ]
  },
  {
   "cell_type": "markdown",
   "metadata": {},
   "source": [
    "#### Worse score than before. The chosen extra features for text processing were title, and publication. Adding extra values decreased score accuracies"
   ]
  },
  {
   "cell_type": "markdown",
   "metadata": {},
   "source": [
    "#### Exercise 4:"
   ]
  },
  {
   "cell_type": "code",
   "execution_count": 46,
   "metadata": {},
   "outputs": [
    {
     "name": "stderr",
     "output_type": "stream",
     "text": [
      "c:\\users\\kj.park\\appdata\\local\\programs\\python\\python36\\lib\\site-packages\\sklearn\\decomposition\\online_lda.py:294: DeprecationWarning: n_topics has been renamed to n_components in version 0.19 and will be removed in 0.21\n",
      "  DeprecationWarning)\n",
      "c:\\users\\kj.park\\appdata\\local\\programs\\python\\python36\\lib\\site-packages\\sklearn\\decomposition\\online_lda.py:536: DeprecationWarning: The default value for 'learning_method' will be changed from 'online' to 'batch' in the release 0.20. This warning was introduced in 0.18.\n",
      "  DeprecationWarning)\n"
     ]
    },
    {
     "name": "stdout",
     "output_type": "stream",
     "text": [
      "Accuracy on training data: 0.974299\n",
      "Accuracy on test data:     0.745593\n"
     ]
    }
   ],
   "source": [
    "from sklearn.decomposition import LatentDirichletAllocation as LDA\n",
    "lda_vec = CountVectorizer(min_df=0.00009,ngram_range=(1, 2),token_pattern=r'\\b\\w+\\b') \n",
    "\n",
    "def make_xy(critics, vectorizer=None):\n",
    "    #Your code here    \n",
    "    if vectorizer is None:\n",
    "        vectorizer = CountVectorizer()\n",
    "    X = vectorizer.fit_transform(critics.quote)\n",
    "    X = X.tocsc()  # some versions of sklearn return COO format\n",
    "    y = (critics.fresh == 'fresh').values.astype(np.int)\n",
    "    return X, y\n",
    "\n",
    "\n",
    "X, y = make_xy(critics, lda_vec)\n",
    "\n",
    "X_train = X[mask]\n",
    "y_train = y[mask]\n",
    "X_test = X[~mask]\n",
    "y_test = y[~mask]\n",
    "\n",
    "\n",
    "lda = LDA(n_topics=20)\n",
    "lda.fit(X_train)\n",
    "train_features = lda.transform(X_train)\n",
    "test_features = lda.transform(X_test)\n",
    "X_train_features = scipy.sparse.hstack((X_train, sp.sparse.csc_matrix(train_features)))\n",
    "X_test_features = scipy.sparse.hstack((X_test, sp.sparse.csc_matrix(test_features)))\n",
    "\n",
    "\n",
    "clf = MultinomialNB(alpha=1).fit(X_train_features, y_train)\n",
    "#clf = MultinomialNB(alpha=5).fit(xtrain, ytrain)\n",
    "\n",
    "\n",
    "training_accuracy = clf.score(X_train_features, y_train)\n",
    "test_accuracy = clf.score(X_test_features, y_test)\n",
    "\n",
    "print(\"Accuracy on training data: {:2f}\".format(training_accuracy))\n",
    "print(\"Accuracy on test data:     {:2f}\".format(test_accuracy))\n",
    "\n"
   ]
  },
  {
   "cell_type": "markdown",
   "metadata": {},
   "source": [
    "#### Not a near perfect score so this model is great. LDA got us closer to a greater test score at 74.56"
   ]
  },
  {
   "cell_type": "markdown",
   "metadata": {},
   "source": [
    "#### Exercise 5:"
   ]
  },
  {
   "cell_type": "code",
   "execution_count": 47,
   "metadata": {},
   "outputs": [
    {
     "name": "stdout",
     "output_type": "stream",
     "text": [
      "alpha : 1  min_df : 0  score : 0.612120189759\n",
      "alpha : 1  min_df : 9e-05  score : 0.668664550585\n",
      "alpha : 1  min_df : 0.0001  score : 0.668664550585\n",
      "alpha : 1  min_df : 0.001  score : 0.703576682709\n",
      "alpha : 1  min_df : 0.005  score : 0.649601226501\n",
      "alpha : 1  min_df : 0.01  score : 0.623688178632\n",
      "alpha : 5  min_df : 0  score : 0.607835698433\n",
      "alpha : 5  min_df : 9e-05  score : 0.609549449061\n",
      "alpha : 5  min_df : 0.0001  score : 0.609549449061\n",
      "alpha : 5  min_df : 0.001  score : 0.650027426436\n",
      "alpha : 5  min_df : 0.005  score : 0.643602984547\n",
      "alpha : 5  min_df : 0.01  score : 0.626470756993\n",
      "alpha : 10  min_df : 0  score : 0.607835698433\n",
      "alpha : 10  min_df : 9e-05  score : 0.608050060705\n",
      "alpha : 10  min_df : 0.0001  score : 0.608050060705\n",
      "alpha : 10  min_df : 0.001  score : 0.616616977767\n",
      "alpha : 10  min_df : 0.005  score : 0.631822928501\n",
      "alpha : 10  min_df : 0.01  score : 0.626898104478\n",
      "alpha : 50  min_df : 0  score : 0.607835698433\n",
      "alpha : 50  min_df : 9e-05  score : 0.607835698433\n",
      "alpha : 50  min_df : 0.0001  score : 0.607835698433\n",
      "alpha : 50  min_df : 0.001  score : 0.607835698433\n",
      "alpha : 50  min_df : 0.005  score : 0.608049831195\n",
      "alpha : 50  min_df : 0.01  score : 0.609334627769\n",
      "best alpha: 1 best min-df: 0.001 best score: 0.703576682709\n"
     ]
    }
   ],
   "source": [
    "from sklearn.feature_extraction.text import TfidfVectorizer\n",
    "\n",
    "def clf_score(clf, x, y):\n",
    "    score = clf.score(x,y)\n",
    "    return score\n",
    "\n",
    "\n",
    "alphas = [1,5,10,50]\n",
    "ngrm_min_df = [0,0.00009,0.0001,0.001,0.005,0.01]\n",
    "best_score=-np.inf\n",
    "best_alpha, best_min_df = None, None\n",
    "for alpha in alphas:\n",
    "    for min_df in ngrm_min_df:\n",
    "        vectorizer = TfidfVectorizer(min_df=min_df, stop_words='english', ngram_range=(1,3))          \n",
    "        X, y = make_xy(critics, vectorizer)\n",
    "        X_train = X[mask]\n",
    "        y_train = y[mask]\n",
    "        clf = MultinomialNB(alpha=alpha)\n",
    "        score = cv_score(clf,X_train,y_train,clf_score)\n",
    "        print('alpha :',alpha,' min_df :',min_df,' score :',score)\n",
    "        if score > best_score:\n",
    "            best_score=score\n",
    "            best_alpha = alpha\n",
    "            best_min_df = min_df\n",
    "\n",
    "print('best alpha:',best_alpha,'best min-df:',best_min_df,'best score:',best_score)"
   ]
  },
  {
   "cell_type": "code",
   "execution_count": 49,
   "metadata": {},
   "outputs": [
    {
     "name": "stdout",
     "output_type": "stream",
     "text": [
      "Accuracy on training data: 0.835082\n",
      "Accuracy on test data:     0.718417\n"
     ]
    }
   ],
   "source": [
    "vectorizer = TfidfVectorizer(min_df=best_min_df,ngram_range=(1, 3),token_pattern=r'\\b\\w+\\b')  \n",
    "X, y = make_xy(critics, vectorizer)\n",
    "X_train=X[mask]\n",
    "y_train=y[mask]\n",
    "X_test=X[~mask]\n",
    "y_test=y[~mask]\n",
    "\n",
    "clf = MultinomialNB(alpha=best_alpha).fit(X_train, y_train)\n",
    "\n",
    "training_accuracy = clf.score(X_train, y_train)\n",
    "test_accuracy = clf.score(X_test, y_test)\n",
    "\n",
    "print(\"Accuracy on training data: {:2f}\".format(training_accuracy))\n",
    "print(\"Accuracy on test data:     {:2f}\".format(test_accuracy))"
   ]
  },
  {
   "cell_type": "markdown",
   "metadata": {},
   "source": [
    "#### A good model, but not as great as the LDA"
   ]
  }
 ],
 "metadata": {
  "kernelspec": {
   "display_name": "Python 3",
   "language": "python",
   "name": "python3"
  },
  "language_info": {
   "codemirror_mode": {
    "name": "ipython",
    "version": 3
   },
   "file_extension": ".py",
   "mimetype": "text/x-python",
   "name": "python",
   "nbconvert_exporter": "python",
   "pygments_lexer": "ipython3",
   "version": "3.6.2"
  }
 },
 "nbformat": 4,
 "nbformat_minor": 1
}
